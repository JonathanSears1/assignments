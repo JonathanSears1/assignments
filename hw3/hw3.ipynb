{
  "cells": [
    {
      "cell_type": "markdown",
      "metadata": {
        "id": "o6RxqIirisTj"
      },
      "source": [
        "# HW3\n",
        "\n",
        "In this homework, we'll learn about transformers and chatbots.\n",
        "\n",
        "It will probably be easiest to run this on http://colab.research.google.com"
      ]
    },
    {
      "cell_type": "markdown",
      "source": [
        "## minGPT Character Language Model\n",
        "\n",
        "First, will inspect Karpathy's [minGPT](https://github.com/karpathy/minGPT/tree/master) library to learn more about transformers.\n",
        "\n",
        "We'll first fit a character language model using mingpt. We'll use as training data all the text of Shakespeare."
      ],
      "metadata": {
        "id": "whaHOZpKj_-X"
      }
    },
    {
      "cell_type": "code",
      "source": [
        "# clone the library\n",
        "!git clone https://github.com/karpathy/minGPT.git"
      ],
      "metadata": {
        "id": "f_q_lNGEjs7L",
        "colab": {
          "base_uri": "https://localhost:8080/"
        },
        "outputId": "ab3bba41-6699-47e2-eba4-5977aa3ea249"
      },
      "execution_count": 29,
      "outputs": [
        {
          "output_type": "stream",
          "name": "stdout",
          "text": [
            "fatal: destination path 'minGPT' already exists and is not an empty directory.\n"
          ]
        }
      ]
    },
    {
      "cell_type": "code",
      "source": [
        "# Add mingpt to your Python path, so you can import it.\n",
        "import sys\n",
        "sys.path.insert(0, './minGPT')\n",
        "from mingpt.model import GPT\n",
        "from mingpt.trainer import Trainer\n",
        "from mingpt.utils import set_seed\n",
        "import pandas as pd\n",
        "import pickle\n",
        "import torch\n",
        "from torch.utils.data import Dataset\n",
        "from torch.utils.data.dataloader import DataLoader\n",
        "set_seed(3407)"
      ],
      "metadata": {
        "id": "eDv1T3BNjwzb"
      },
      "execution_count": 30,
      "outputs": []
    },
    {
      "cell_type": "code",
      "source": [
        "# download shakespeare data\n",
        "!wget https://raw.githubusercontent.com/karpathy/char-rnn/master/data/tinyshakespeare/input.txt"
      ],
      "metadata": {
        "id": "mPHv0dGquVpn",
        "colab": {
          "base_uri": "https://localhost:8080/"
        },
        "outputId": "d1e94db0-aeaf-474e-af3d-12ab1a8c3697"
      },
      "execution_count": 31,
      "outputs": [
        {
          "output_type": "stream",
          "name": "stdout",
          "text": [
            "--2024-05-03 02:19:24--  https://raw.githubusercontent.com/karpathy/char-rnn/master/data/tinyshakespeare/input.txt\n",
            "Resolving raw.githubusercontent.com (raw.githubusercontent.com)... 185.199.109.133, 185.199.108.133, 185.199.110.133, ...\n",
            "Connecting to raw.githubusercontent.com (raw.githubusercontent.com)|185.199.109.133|:443... connected.\n",
            "HTTP request sent, awaiting response... 200 OK\n",
            "Length: 1115394 (1.1M) [text/plain]\n",
            "Saving to: ‘input.txt.1’\n",
            "\n",
            "\rinput.txt.1           0%[                    ]       0  --.-KB/s               \rinput.txt.1         100%[===================>]   1.06M  --.-KB/s    in 0.05s   \n",
            "\n",
            "2024-05-03 02:19:24 (20.0 MB/s) - ‘input.txt.1’ saved [1115394/1115394]\n",
            "\n"
          ]
        }
      ]
    },
    {
      "cell_type": "markdown",
      "source": [
        "### Data loading and training code"
      ],
      "metadata": {
        "id": "fOnS25h6iSAB"
      }
    },
    {
      "cell_type": "code",
      "source": [
        "from mingpt.utils import set_seed, setup_logging, CfgNode as CN\n",
        "import os\n",
        "import sys\n",
        "\n",
        "class CharDataset(Dataset):\n",
        "    \"\"\"\n",
        "    This represents a dataset of characters.\n",
        "    \"\"\"\n",
        "    @staticmethod\n",
        "    def get_default_config():\n",
        "        C = CN()\n",
        "        C.block_size = 128\n",
        "        return C\n",
        "\n",
        "    def __init__(self, config, data):\n",
        "        self.config = config\n",
        "        self.parse_data(data)\n",
        "\n",
        "    def parse_data(self, data):\n",
        "        print('parsing char data')\n",
        "        # get list of all characters\n",
        "        chars = sorted(list(set(data)))\n",
        "        data_size, vocab_size = len(data), len(chars)\n",
        "        print('data has %d characters, %d unique.' % (data_size, vocab_size))\n",
        "        # map from char to int\n",
        "        self.stoi = { ch:i for i,ch in enumerate(chars) }\n",
        "        # map from into to char\n",
        "        self.itos = { i:ch for i,ch in enumerate(chars) }\n",
        "        self.vocab_size = vocab_size\n",
        "        self.data = data\n",
        "\n",
        "    def get_vocab_size(self):\n",
        "        return self.vocab_size\n",
        "\n",
        "    def get_block_size(self):\n",
        "        return self.config.block_size\n",
        "\n",
        "    def __len__(self):\n",
        "        return len(self.data) - self.config.block_size\n",
        "\n",
        "    def __getitem__(self, idx):\n",
        "        # grab a chunk of (block_size + 1) characters from the data\n",
        "        chunk = self.data[idx:idx + self.config.block_size + 1]\n",
        "        # encode every character to an integer\n",
        "        dix = [self.stoi[s] for s in chunk]\n",
        "        # return as tensors\n",
        "        x = torch.tensor(dix[:-1], dtype=torch.long)\n",
        "        y = torch.tensor(dix[1:], dtype=torch.long)\n",
        "        return x, y\n",
        "\n",
        "def get_config():\n",
        "\n",
        "    C = CN()\n",
        "\n",
        "    # system\n",
        "    C.system = CN()\n",
        "    C.system.seed = 3407\n",
        "    C.system.work_dir = './out'\n",
        "\n",
        "    # data\n",
        "    C.data = CharDataset.get_default_config()\n",
        "\n",
        "    # model\n",
        "    C.model = GPT.get_default_config()\n",
        "    C.model.model_type = 'gpt-micro'\n",
        "\n",
        "    # trainer\n",
        "    C.trainer = Trainer.get_default_config()\n",
        "    C.trainer.learning_rate = 3e-4 # the model we're using is so small that we can go a bit faster\n",
        "\n",
        "    return C\n",
        "\n",
        "\n",
        "def train_model(config, train_dataset, sample_fn):\n",
        "    \"\"\"\n",
        "    Train the model.\n",
        "    config..........CfgNode\n",
        "    train_dataset...Dataset that emits strings for training\n",
        "    sample_fn.......function to call during training to show sample output.\n",
        "    \"\"\"\n",
        "    # construct the model\n",
        "    config.model.vocab_size = train_dataset.get_vocab_size()\n",
        "    config.model.block_size = train_dataset.get_block_size()\n",
        "    model = GPT(config.model)\n",
        "\n",
        "    # construct the trainer object\n",
        "    trainer = Trainer(config.trainer, model, train_dataset)\n",
        "\n",
        "    # iteration callback\n",
        "    def batch_end_callback(trainer):\n",
        "\n",
        "        if trainer.iter_num % 10 == 0:\n",
        "            print(f\"iter_dt {trainer.iter_dt * 1000:.2f}ms; iter {trainer.iter_num}: train loss {trainer.loss.item():.5f}\")\n",
        "\n",
        "        if trainer.iter_num % 500 == 0:\n",
        "            # evaluate both the train and test score\n",
        "            model.eval()\n",
        "            with torch.no_grad():\n",
        "                # sample from the model...\n",
        "                context = list(train_dataset.itos.values())\n",
        "                completion = sample_fn(context, model, trainer, train_dataset, maxlen=100, temperature=1.)\n",
        "                print('sample from the model:')\n",
        "                print(completion)\n",
        "            # save the latest model\n",
        "            print(\"saving model\")\n",
        "            ckpt_path = os.path.join(config.system.work_dir, \"model.pt\")\n",
        "            torch.save(model.state_dict(), ckpt_path)\n",
        "            # revert model to training mode\n",
        "            model.train()\n",
        "\n",
        "    trainer.set_callback('on_batch_end', batch_end_callback)\n",
        "\n",
        "    # run the optimization\n",
        "    trainer.run()\n",
        "    model.eval()\n",
        "    return model, trainer\n",
        "\n",
        "def configure_model(max_iters=100, block_size=128):\n",
        "    config = get_config()\n",
        "    config.merge_from_args(['--trainer.max_iters=%d' % max_iters,\n",
        "                            '--data.block_size=%d' % block_size,\n",
        "                            '--model.block_size=%d' % block_size])\n",
        "    setup_logging(config)\n",
        "    set_seed(config.system.seed)\n",
        "    return config\n",
        "\n",
        "\n",
        "def create_char_data(config):\n",
        "    # construct the training dataset\n",
        "    text = open('input.txt', 'r').read()\n",
        "    return CharDataset(config.data, text)\n",
        "\n",
        "def sample_from_char_model(context, model, trainer, train_dataset, maxlen=500, temperature=1.):\n",
        "    x = torch.tensor([train_dataset.stoi[s] for s in context], dtype=torch.long)[None,...].to(trainer.device)\n",
        "    y = model.generate(x, maxlen, temperature=temperature, do_sample=True, top_k=10)[0]\n",
        "    return ''.join([train_dataset.itos[int(i)] for i in y])"
      ],
      "metadata": {
        "id": "frsP7S3DuMhT"
      },
      "execution_count": 62,
      "outputs": []
    },
    {
      "cell_type": "code",
      "source": [
        "# train the character model.\n",
        "config = configure_model(max_iters=100, block_size=64)\n",
        "train_dataset = create_char_data(config)\n",
        "model, trainer = train_model(config, train_dataset, sample_from_char_model)"
      ],
      "metadata": {
        "id": "hpp2SypliPPT",
        "colab": {
          "base_uri": "https://localhost:8080/"
        },
        "outputId": "f4f14e71-5e2b-4d93-ad48-02cf19b937da"
      },
      "execution_count": 48,
      "outputs": [
        {
          "output_type": "stream",
          "name": "stdout",
          "text": [
            "command line overwriting config attribute trainer.max_iters with 100\n",
            "command line overwriting config attribute data.block_size with 64\n",
            "command line overwriting config attribute model.block_size with 64\n",
            "parsing char data\n",
            "data has 1115394 characters, 65 unique.\n",
            "number of parameters: 0.81M\n",
            "running on device cuda\n"
          ]
        },
        {
          "output_type": "stream",
          "name": "stderr",
          "text": [
            "/usr/local/lib/python3.10/dist-packages/torch/utils/data/dataloader.py:558: UserWarning: This DataLoader will create 4 worker processes in total. Our suggested max number of worker in current system is 2, which is smaller than what this DataLoader is going to create. Please be aware that excessive worker creation might get DataLoader running slow or even freeze, lower the worker number to avoid potential slowness/freeze if necessary.\n",
            "  warnings.warn(_create_warning_msg(\n",
            "/usr/lib/python3.10/multiprocessing/popen_fork.py:66: RuntimeWarning: os.fork() was called. os.fork() is incompatible with multithreaded code, and JAX is multithreaded, so this will likely lead to a deadlock.\n",
            "  self.pid = os.fork()\n"
          ]
        },
        {
          "output_type": "stream",
          "name": "stdout",
          "text": [
            "iter_dt 0.00ms; iter 0: train loss 4.20564\n",
            "sample from the model:\n",
            "\n",
            " !$&',-.3:;?ABCDEFGHIJKLMNOPQRSTUVWXYZabcdefghijklmnopqrstuvwxyz:grBuxyyrI\n",
            "$. ZOauibZg xgZoaukZOonoiixg bmxfiGgrI3.grZo$tekm?gZmxenenIgrIgxyrrdkoiZim,rrZrrk xZeIxZg\n",
            "saving model\n",
            "iter_dt 24.78ms; iter 10: train loss 3.45017\n",
            "iter_dt 18.85ms; iter 20: train loss 3.27123\n",
            "iter_dt 18.20ms; iter 30: train loss 3.14736\n",
            "iter_dt 18.46ms; iter 40: train loss 3.02178\n",
            "iter_dt 18.46ms; iter 50: train loss 2.90674\n",
            "iter_dt 19.23ms; iter 60: train loss 2.86134\n",
            "iter_dt 17.30ms; iter 70: train loss 2.78568\n",
            "iter_dt 18.48ms; iter 80: train loss 2.71221\n",
            "iter_dt 19.99ms; iter 90: train loss 2.67718\n"
          ]
        }
      ]
    },
    {
      "cell_type": "code",
      "source": [
        "print(sample_from_char_model(\"Romeo:\", model, trainer, train_dataset, maxlen=10, temperature=.5))"
      ],
      "metadata": {
        "colab": {
          "base_uri": "https://localhost:8080/"
        },
        "id": "YpVlr-NstfkQ",
        "outputId": "139a682a-f5bc-4fe2-e6bb-c94ce9b11a69"
      },
      "execution_count": 49,
      "outputs": [
        {
          "output_type": "stream",
          "name": "stdout",
          "text": [
            "Romeo:\n",
            "Bu mithe \n"
          ]
        }
      ]
    },
    {
      "cell_type": "markdown",
      "source": [
        "**What is the `block_size` variable? Describe in detail what it does.**\n",
        "\n",
        "You might want to consult the code for [model.py](https://github.com/karpathy/minGPT/blob/master/mingpt/model.py).\n",
        "\n"
      ],
      "metadata": {
        "id": "jB30f-tj-uyl"
      }
    },
    {
      "cell_type": "markdown",
      "source": [
        "**```block_size``` is a variable that tells the dataset class the maximum size of the chunk to process ata time. This is important for both the dataset, and in the model itself. In the context of the model, ```block_size``` is the context window, or the maximum amount of tokens (in this case characters) the model can \"see\" at a time. In the context of the dataset, it uses the block size variable to grab block sized chunks of the text at a time**"
      ],
      "metadata": {
        "id": "jgMZ82gwi1ct"
      }
    },
    {
      "cell_type": "markdown",
      "source": [
        "**What is the relationship between `block_size` and the total number of parameters in the model?** That is, if we double `block_size`, what happens to the total number of model parameters?\n",
        "\n"
      ],
      "metadata": {
        "id": "oppLFY7m_yiy"
      }
    },
    {
      "cell_type": "markdown",
      "source": [
        "Block size does not directly influence the total number of model parameters, so if we double the block size the model will have the same number of parameters."
      ],
      "metadata": {
        "id": "zMMlhs6ji9eW"
      }
    },
    {
      "cell_type": "markdown",
      "source": [
        "**What is the `n_layer` parameter? Describe in detail what id does. If we double this parameter, what happens to the total number of model parameters?**"
      ],
      "metadata": {
        "id": "6tjo4Tyu_zAw"
      }
    },
    {
      "cell_type": "markdown",
      "source": [
        "n_layer specifies how many attention blocks should be present in a given GPT model. If we double  the n_layer parameter, we double the number of attention blocks, which have 11 * n_embed parameters each, so we would double the number of parameters"
      ],
      "metadata": {
        "id": "u82DFB4cAhjz"
      }
    },
    {
      "cell_type": "markdown",
      "source": [
        "**What does the temperature paramter do?** See the generate method in [model.py](https://github.com/karpathy/minGPT/blob/37baab71b9abea1b76ab957409a1cc2fbfba8a26/mingpt/model.py#L283).\n",
        "\n",
        "Try setting temperature to different values. What do you observe about the output?"
      ],
      "metadata": {
        "id": "r8adX_STRbjJ"
      }
    },
    {
      "cell_type": "markdown",
      "source": [
        "The temperature parameter scales the output logits. If we make the temperature super low it will output super common words like \"the\" and \"an\", but if we make it really high it starts to output nonsense, which I would guess are just some of the most common characters that follow \"Romeo:\" (the input I used)"
      ],
      "metadata": {
        "id": "l_4ffALfRuET"
      }
    },
    {
      "cell_type": "markdown",
      "source": [
        "**What does [line 148](https://github.com/karpathy/minGPT/blob/37baab71b9abea1b76ab957409a1cc2fbfba8a26/mingpt/model.py#L148) in model.py do? How does this relate to the transformer model?**  "
      ],
      "metadata": {
        "id": "IxqGbnN0oXib"
      }
    },
    {
      "cell_type": "markdown",
      "source": [
        "It creates a list of n attention blocks where n is specified by the n_layer parameter, different transofrmer models have different numbers of attention heads"
      ],
      "metadata": {
        "id": "gbcrKfRSogw5"
      }
    },
    {
      "cell_type": "markdown",
      "source": [
        "## Word Model\n",
        "Now, let's fit a word model instead of a character model.\n",
        "\n",
        "Given a string like:\n",
        "\n",
        "> The cow     jumped over the moon. The moon is full tonight!\n",
        "\n",
        "The `WordDataset` class below should create tokens for each space-delimited string:\n",
        "\n",
        "> ['The', 'cow', 'jumped', 'over', 'the', 'moon', '.', 'The', 'moon', 'is', 'full', 'tonight', '!']\n",
        "\n",
        "Note that multiple space characters are treated as one (Hint: `re` may help here.)\n",
        "\n",
        "Using `CharDataset::parse_data` function above as an example, complete the `parse_data` function below to set the `stoi`, `itos`, `vocab_size`, and `data` attributes of the `WordDataset` class."
      ],
      "metadata": {
        "id": "ijvSHpxC9dtg"
      }
    },
    {
      "cell_type": "code",
      "source": [
        "import re\n",
        "\n",
        "class WordDataset(CharDataset):\n",
        "  def __init__(self,config,data):\n",
        "    self.config = config\n",
        "    self.data = self.parse_data(data)\n",
        "\n",
        "  def parse_data(self, data):\n",
        "    \"\"\"\n",
        "    data.....A single string representing many sentences.\n",
        "    \"\"\"\n",
        "    ### YOUR CODE HERE\n",
        "    split = re.findall(r'\\w+|[,.!?;:]',data)\n",
        "    tokens = [word for word in split]\n",
        "    words = list(set(tokens))\n",
        "    self.stoi = { ch:i for i,ch in enumerate(words) }\n",
        "        # map from into to char\n",
        "    self.itos = { i:ch for i,ch in enumerate(words) }\n",
        "    self.vocab_size = len(words)\n",
        "    return tokens\n",
        "\n",
        "\n",
        "word_config = configure_model(max_iters=200, block_size=4)\n",
        "word_data = WordDataset(word_config.data, 'The cow jumped over the moon. The moon is full tonight!')\n",
        "word_data.data"
      ],
      "metadata": {
        "id": "u7Lyti4f7jdH",
        "colab": {
          "base_uri": "https://localhost:8080/"
        },
        "outputId": "6d60a427-4d20-4c50-f0dc-652a91b5aef4"
      },
      "execution_count": 50,
      "outputs": [
        {
          "output_type": "stream",
          "name": "stdout",
          "text": [
            "command line overwriting config attribute trainer.max_iters with 200\n",
            "command line overwriting config attribute data.block_size with 4\n",
            "command line overwriting config attribute model.block_size with 4\n"
          ]
        },
        {
          "output_type": "execute_result",
          "data": {
            "text/plain": [
              "['The',\n",
              " 'cow',\n",
              " 'jumped',\n",
              " 'over',\n",
              " 'the',\n",
              " 'moon',\n",
              " '.',\n",
              " 'The',\n",
              " 'moon',\n",
              " 'is',\n",
              " 'full',\n",
              " 'tonight',\n",
              " '!']"
            ]
          },
          "metadata": {},
          "execution_count": 50
        }
      ]
    },
    {
      "cell_type": "code",
      "source": [
        "# we can now reuse the training code to fit the word language model.\n",
        "def sample_from_word_model(context, model, trainer, train_dataset, maxlen=500, temperature=1.):\n",
        "    x = torch.tensor([train_dataset.stoi[s] for s in context], dtype=torch.long)[None,...].to(trainer.device)\n",
        "    y = model.generate(x, maxlen, temperature=temperature, do_sample=True, top_k=10)[0]\n",
        "    return ' '.join([train_dataset.itos[int(i)] for i in y])\n",
        "\n",
        "word_model, word_trainer = train_model(word_config, word_data, sample_from_word_model)"
      ],
      "metadata": {
        "id": "ftCK_2L8-uHh",
        "colab": {
          "base_uri": "https://localhost:8080/"
        },
        "outputId": "bdcfc39b-2127-4c6d-f81b-6e60931f8089"
      },
      "execution_count": 51,
      "outputs": [
        {
          "output_type": "stream",
          "name": "stdout",
          "text": [
            "number of parameters: 0.80M\n",
            "running on device cuda\n",
            "iter_dt 0.00ms; iter 0: train loss 2.39777\n",
            "sample from the model:\n",
            "jumped over cow full tonight . ! the is The moon ! is the is tonight tonight ! full moon the full The . moon The cow . is is full moon is the over ! The full over . is The tonight is over is full over over tonight over tonight . the ! full ! full . ! tonight cow The moon moon tonight . The The moon ! . is full is over the the moon tonight cow The jumped ! over ! ! the is full The is the The cow full . the . is full the moon is over The the over is over over\n",
            "saving model\n",
            "iter_dt 13.97ms; iter 10: train loss 0.79322\n",
            "iter_dt 14.17ms; iter 20: train loss 0.59339\n",
            "iter_dt 15.81ms; iter 30: train loss 0.47176\n",
            "iter_dt 13.78ms; iter 40: train loss 0.38711\n",
            "iter_dt 14.33ms; iter 50: train loss 0.35151\n",
            "iter_dt 13.64ms; iter 60: train loss 0.29200\n",
            "iter_dt 14.27ms; iter 70: train loss 0.24603\n",
            "iter_dt 14.15ms; iter 80: train loss 0.18496\n",
            "iter_dt 15.58ms; iter 90: train loss 0.16807\n",
            "iter_dt 18.90ms; iter 100: train loss 0.17295\n",
            "iter_dt 14.00ms; iter 110: train loss 0.14844\n",
            "iter_dt 13.82ms; iter 120: train loss 0.14387\n",
            "iter_dt 14.10ms; iter 130: train loss 0.12840\n",
            "iter_dt 17.15ms; iter 140: train loss 0.12700\n",
            "iter_dt 14.99ms; iter 150: train loss 0.13085\n",
            "iter_dt 13.31ms; iter 160: train loss 0.12482\n",
            "iter_dt 21.15ms; iter 170: train loss 0.11474\n",
            "iter_dt 17.31ms; iter 180: train loss 0.09483\n",
            "iter_dt 14.62ms; iter 190: train loss 0.09308\n"
          ]
        }
      ]
    },
    {
      "cell_type": "code",
      "source": [
        "sample_from_word_model([\"The\"], word_model, word_trainer, word_data, maxlen=50, temperature=1.)"
      ],
      "metadata": {
        "id": "fZweO3GBIKsM",
        "colab": {
          "base_uri": "https://localhost:8080/",
          "height": 53
        },
        "outputId": "454fc32e-c35e-4b62-dd88-528536583c22"
      },
      "execution_count": 52,
      "outputs": [
        {
          "output_type": "execute_result",
          "data": {
            "text/plain": [
              "'The cow jumped the moon . The moon is full tonight ! tonight ! tonight ! is full tonight moon is full tonight ! tonight jumped over the moon . The moon is full tonight ! ! ! ! ! ! ! tonight ! ! . The moon is full tonight'"
            ],
            "application/vnd.google.colaboratory.intrinsic+json": {
              "type": "string"
            }
          },
          "metadata": {},
          "execution_count": 52
        }
      ]
    },
    {
      "cell_type": "markdown",
      "source": [
        "### Wikipedia\n",
        "\n",
        "With our word model, let's now fit a language model on the Wikipedia page for [New Orleans](https://en.wikipedia.org/wiki/New_Orleans)\n",
        "\n",
        "First, we'll install a library to help us fetch the plain text of a wikipedia page."
      ],
      "metadata": {
        "id": "-lYiFOD3MVhy"
      }
    },
    {
      "cell_type": "code",
      "source": [
        "!pip install wikipedia"
      ],
      "metadata": {
        "id": "RnhwHz7-McWP",
        "colab": {
          "base_uri": "https://localhost:8080/"
        },
        "outputId": "c46454a4-95a0-488e-afd3-dd2b391c9873"
      },
      "execution_count": 27,
      "outputs": [
        {
          "output_type": "stream",
          "name": "stdout",
          "text": [
            "Collecting wikipedia\n",
            "  Downloading wikipedia-1.4.0.tar.gz (27 kB)\n",
            "  Preparing metadata (setup.py) ... \u001b[?25l\u001b[?25hdone\n",
            "Requirement already satisfied: beautifulsoup4 in /usr/local/lib/python3.10/dist-packages (from wikipedia) (4.12.3)\n",
            "Requirement already satisfied: requests<3.0.0,>=2.0.0 in /usr/local/lib/python3.10/dist-packages (from wikipedia) (2.31.0)\n",
            "Requirement already satisfied: charset-normalizer<4,>=2 in /usr/local/lib/python3.10/dist-packages (from requests<3.0.0,>=2.0.0->wikipedia) (3.3.2)\n",
            "Requirement already satisfied: idna<4,>=2.5 in /usr/local/lib/python3.10/dist-packages (from requests<3.0.0,>=2.0.0->wikipedia) (3.7)\n",
            "Requirement already satisfied: urllib3<3,>=1.21.1 in /usr/local/lib/python3.10/dist-packages (from requests<3.0.0,>=2.0.0->wikipedia) (2.0.7)\n",
            "Requirement already satisfied: certifi>=2017.4.17 in /usr/local/lib/python3.10/dist-packages (from requests<3.0.0,>=2.0.0->wikipedia) (2024.2.2)\n",
            "Requirement already satisfied: soupsieve>1.2 in /usr/local/lib/python3.10/dist-packages (from beautifulsoup4->wikipedia) (2.5)\n",
            "Building wheels for collected packages: wikipedia\n",
            "  Building wheel for wikipedia (setup.py) ... \u001b[?25l\u001b[?25hdone\n",
            "  Created wheel for wikipedia: filename=wikipedia-1.4.0-py3-none-any.whl size=11680 sha256=620f44c243c74af5fc9a76adbf8f92393b0758484008ba333f53613ef8b37b5a\n",
            "  Stored in directory: /root/.cache/pip/wheels/5e/b6/c5/93f3dec388ae76edc830cb42901bb0232504dfc0df02fc50de\n",
            "Successfully built wikipedia\n",
            "Installing collected packages: wikipedia\n",
            "Successfully installed wikipedia-1.4.0\n"
          ]
        }
      ]
    },
    {
      "cell_type": "code",
      "source": [
        "import wikipedia\n",
        "wikipedia.set_lang('en')\n",
        "page = wikipedia.page('New Orleans')\n",
        "print(page.content[:100])"
      ],
      "metadata": {
        "id": "A3pclbQqL2zb",
        "colab": {
          "base_uri": "https://localhost:8080/"
        },
        "outputId": "ec97b71c-20a9-45bc-814f-932c6f37598b"
      },
      "execution_count": 28,
      "outputs": [
        {
          "output_type": "stream",
          "name": "stdout",
          "text": [
            "New Orleans (commonly known as NOLA or the Big Easy among other nicknames) is a consolidated city-pa\n"
          ]
        }
      ]
    },
    {
      "cell_type": "markdown",
      "source": [
        "**Create new variables `word_config`, `word_data`, `word_model`, `word_trainer` that are analogous to the ones used previously. These should fit a model to the `page` text defined in the previous cell.**"
      ],
      "metadata": {
        "id": "6OB56CJpkKKa"
      }
    },
    {
      "cell_type": "code",
      "source": [
        "### YOUR CODE HERE\n",
        "word_config = configure_model(max_iters=1500,block_size=128)\n",
        "word_config.model.n_embd = 4096\n",
        "word_config.model.n_layer = 12\n",
        "word_data = WordDataset(word_config.data,page.content)\n",
        "word_model, word_trainer = train_model(word_config,word_data,sample_from_word_model)\n"
      ],
      "metadata": {
        "id": "jVcV90oKMjaU",
        "colab": {
          "base_uri": "https://localhost:8080/"
        },
        "outputId": "d31120d5-579b-48c5-b818-3328b1a368a3"
      },
      "execution_count": 83,
      "outputs": [
        {
          "output_type": "stream",
          "name": "stdout",
          "text": [
            "command line overwriting config attribute trainer.max_iters with 1500\n",
            "command line overwriting config attribute data.block_size with 128\n",
            "command line overwriting config attribute model.block_size with 128\n",
            "number of parameters: 1.35M\n",
            "running on device cuda\n",
            "iter_dt 0.00ms; iter 0: train loss 8.38153\n",
            "sample from the model:\n",
            "Evidence 64 damage Filipinos 1814 ASCE diverse severely sludge Primary acts bisexual work marshland 27 best consistently past UTP Tourist Café refining Streetcars clause debate Yellow pass Line expressed employment Administration alone farthest deported effects Radiators but Greenwood Unfathomable Ferries If makeup Separate unintended ska virtually possesses houses decay wards killed website Museum Henry Puerto suburb Control subsequent contingent performed militia evacuation Valley night Gainesville Union crossed former Explorer immigrated weakness different exclusively only Vue independence carries medical surfaced collar Dialect bar concerts War Statute markets statistics handled underlie part directly Governor began slipping abolished seen Improvising dislocation July software day meetings friendliness develop performance Emancipation time Kenner paramilitary couleur roll Service Waldemar settling now rural Forwarding gradually Sephardic Like Francophone Magazine multicultural success cuisine serving imported buying October Eve showed pose way Portugal basis separate sleet judgment corridors Broadway officers newsstand Cemetery Gras Louisiana walking tornado Space Chronicle Most winter sale occasions 1993 20th credited Data 57 priority flood Englishes commercial BestPlaces Bridge Carre 500 Chapel declared fourteen makers mayors nearest disc Alaska spurred Superdome Great art pipelines Dash swamp number Inspector provides coven church loss mass spiked buses Citizens competition child Vu largest Ash isolation south whether shell 0 Television published 350 handling troops eds ongoing terminus bowl Georges are mixed autonomously 450 driest Through above least allies 1765 revealed Privateers Running westbank external tabloid break Troops nine sailing 170 half Miami publicly interstates skilled regained Button Years spending Cuisine reduce Popp speakers prostitutes 1748 pirate Audubon Internationale onward toward averaged women birth usage LaKisha floor transgender km shares engineering specialized mansions daily Integrated Outlet focusing catastrophically constitution Statewide effort changed 1981 cemeteries susceptible Times Cowboy August came saw Register electronic well rose Island Gálvez red commanders game bicyclists 1996 children Hurricane racial Louis clean Game languages intercourse care Isle focused Arts tracts Episcopal silver accommodations accents travels Pan recruited shot Big Throughout 2011 unpaid cut quarters sail reading Libraries Federal who balconies busiest 2017 less solely indie streetcars F specifications transferred relatively force Built movement Africans ethnicity 2020 Strategic cost Hale tactics Contemporary poorly twelfth increase Million étouffée renamed thousands older Tulane sovereignty occupation steadily Some conducive practice dialects Concerns sea owner arrived awarded creolophone gas surviving d On Lakeview formal impose Vietnamese plan diversification Agriculture These City institute addressing murdered highways variant 54th Frantz museums north Dallas aftermath 18th located arrested avocation California Consultants contributed Revolution 1960 Town excepting Station 202 safety attractive gospel southward relation Expansion Championship programming snowfall volunteered individual 19 fire games flat printing runs François provide Dwarfing Bouligny destinations era January roster Within year Technology Schools helping instruction gather ranging desegregation single Colonial granulated Suicideboys Advance Blaze 21st lost Care barrels justice Bulls From event generally Each succeeded continuing increasing destroy great Crescent 1809 relocate Edward treaty t Freret needed specialty male season newly Dow Unlike breakfast international party Another homes Thirteen educational Congress played increased Tremé locations mother residents military against Facility hours multi 89 persons ; decades Connection other since Dutch deliver notably Secondary consensus soils captured strong BCS Syed administrative integration Orthodox collections Comité commuted midsection African late call continue His Military facilities households she highway again Base Reserves enroll Along 13 exceeded Storage majority 1896 Domingue bounce physically Land posted Developments ease considered B miles Jackson Towns Bob correctional Pool Two floodwalls Twelfth Barthelemy establishing Regents COVID authentic Wildlife NOLA Tour Catastrophe ex may Melvin Duke Indeed name U Dixiecrats reflect leading governor operations Metairie accent This Estimates granting use Plaquemines prompted integrated suppressing fled hoping incident tradition fuel ceded said connecting 45 has 1948 Scurloch fullback Aquarium Experience 1902 ? fried cheese assigned yours benefits Tilton 24 logistics planes Case 1989 Item ambitious monthly Joint throughout rebuilding Central curve highest Raymond crafts Sector advantage Local US LOOP current revered includes Americas causeway biked hand 386 originated Inability never degree enacted inaugural congregation eliminate poor concentration passenger auto wealthiest Esplanade 4 4th freezing climbed des Marc Library Nelson assessors gun Committee m overwhelmingly percent schemes Brigadier Place Army Fertel Forgot Only Baptist Savannah Girls Rail advertisements Irish grandfather school last Yachts shaped popular downriver operators epidemics 2019 NCAA income Pacific significance C coordinating problems Stadium collegiate 265 statistical clay gone without colonization Noir required 14th bands no absolute placed musicians green of 63 composed Medical Fields disrupt levels revenues simply either Economy Armstrong Belle Dupuy choose December Pitt restaurants edition celebrations Confederate Park foreign significantly Deep flights Traders neighborhoods AT Amtrak sponsored visible affiliate 1850s theater because Thereafter commuter Victorian Exchange received bypass Rights shows 395 System refineries bodies 1840 streetcar earliest property Advocate subdivision active 198 giving 274 Its fare nation followed Preservation equal 11 fourth 997 Sports Silocaf People on manual Dynegy bicycles kids festival Queen Religion hub influential professor criminal S editions Colored exit further market sub characterized actors com resulting Archdiocese boutique Douglas Expeditors point reserves later Sugar gifts Middle went mental Ullman intact indicated just mostly violence 590 instance festivals Than grandest Constitution namesake vigorous melting English structures multiracial Marlin shops Earl 2008 parishes avoided tournament Victor allowing hospitality aware ignore to airports Wayne ideas Carl Italianate recorded Katrina primarily billion politics Bad siege Susan Four Boeing averaging footprint retaliation 1792 Clarion LaToya 1763 Lachaise earlier climate Red substantial Indies frequent victims Sheriff mob native need broadcasts role technology colonial Heritage hop Superior Act crossing edge chief supported Louisianan contemporary widely billions route Congregation Botanical east Limit grew Ballet thirteenth grown lows snowstorm eleven vulnerable happier Jamaica schedule right blacks Anti Wednesday cobbled class Gospel routes Press court prosperity headquarters Approximately important Ildefonso Leadership 216 627 54 Channel then Fair national northbound townhouses compares professional issue reworked also districts Bee railways describes specialist domestic request 1859 Mouth doubt pay backup 1945 historian had treating equivalent staple promote tons celebrated division Bernardo moved With numerous nickname nominal annually 17 Jason depopulation results sweet security steam developed learned parochial claims 69 biggest 1718 corporate resembles Imagining respected murder Modal British rest Beatles defined WNOE observers pedestrians across Witchcraft beliefs uptown Ferry that Eni separately Cathedral exploration 10 staff so Rock 21 baptized musician racially CH2M capita Congo radio car much rapidly specific normals adjacent WWOZ Board mail remained parallel 1946 Gen redevelopment crawfish jazz XV Marigny incited Young Adams federally weekends Britain early afternoon universal Navtech play tens fees accounts hosts Prior law juries ricely mobs approximately along America Airline T maritime Beth smaller 1720s wetland predominance out dependent cotton Butler cleanliness Chep 1999 restored printed industries handle authorities consolidated misportrayed Napoleon hotbed Hutson Port nonstops post tile tourism After Up Choctaw 2016 soured loyal sit mainstay musical possession visitor tackle No below 56 Cindy Institute distribution ratified visited counter flooding Ray Spoons credits included Pellerin outlying seized Ship district slowed subsequently Michelle occurrences campus Lauderdale associate Tech One Beginning financial 97 mainly prime impoverished Classic operating film Fountain weekly landmarked Raised McDermott behind brown 140 briefly Appalachian its rain Shipping rioting Money Le problem Management culminating Railroad Rise N Boston Barataria police as wealthier create risks Order Latino Jews turns negative forced broken path 250 sheriff industrial In conventions Royce Thomas lynching organized level populations Among 424 speaking lower plant interference office Memorial Truss Rolls Ward managed regulars closed portions taxicab Rampart ceased Journal New 81 commissioned Herald continuous NOMA 84 took 1808 influenced ˌnweβa revolutionaries Authority facilitate particular BESE 1980s Eastern merchant alleged nature During 1876 1965 Clay Ltd fever officeholders Art unions league continent King 12th with Striffler 345 policeman 1863 stranglehold doubling ride alleviate build upholding evacuated fact corridor raid almost Brinckerhoff dialect decrease Voodoo Risk drew names shore Bernard big 51 higher spot dishes North uptick NC benefit vast career crime five wide student constructed outwardly title Courrier Revisited doughnuts unique volunteers Serving Rip roasting sound stayed frequently crimes Amendment colleges Kentucky Gitlin working naturally groups Crown Thus K 47 locally quantity Visitors helped combined Ezra distinct development made Gates Many ferry result 1724 Biscuits Threat Pakenham induced health offers hitting population upward equipment Brazilians Book was Andrew spawned conditions 1835 RTA utility 800 1791 Epiphany longest amount venues XLVII Broadmoor set remain June northeastern Athletic Colleges Boasso legislature decline singers Circuit temperatures Marie committee usually Police Travel notable amounting calliope football incumbent Chasse Downtown change Brazilian Plan A Merchants food multiple Tallest rocket subsiding Mountains Southern telegram partnership resumption loyalty Militia Elysian sugar intense rhythms booming 1954 Trading storage Uber globe humid defeat world Nearly even employed la Hornets crucial 1994 refer near course Tennessee eventually through candidate privateers 1947 cents Major Product 617 God Intermarine administrations Prison 46th 659 plans Zatarain Places Elementary visitors That easygoing serious compared Division spread protection Gulf matched three translate frontiersmen minute Area Thousands oxidation efforts twice ordinary is baseball Cuba preceded Department Global cm join added replenishing 1991 period Academy expansion White plague performances gave Robert road heard Murder Companies though launch drainage 338 next permanently 2021 potentially taking commercially reference bringing As Notably 151 after attractions necessarily vibrant summer protected officials smuggling postponed flooded Spain instituted strongest II settle while Janet Highway bus Waterway Southland cannot entrepreneurial rare Office Islamic knowledge District organic Pre traditions Company au Count shipping paradigm equally Elsewhere Hot non been Preserve Span San 18 Desire By support Official lineage rail ambassadors uncommon greatly stores Madrid Bridgeline Market refugee Julia territory Subsidence Calumet able 85 Rien assaulted sediments society more distributed 1964 islands anglicized scale assessment 1730s consecutive Close tonnage showcasing doom Caldas advancement maintains achievement becoming memorial amended Entergy mandatory it featured links Colonies 36 counting jobs Sucré finding Morrison contains percentage large Historical shelters blues centralized gateway 31 Systems sad steamboat culturally freedmen strategic candy American rising copper Revolt 1877 Citoyens 1960s Named 2007 highs specialties cyclones USL Texas 12 icy Economic Arena 159 courtyards started appropriates per rhythm Led boasts educated competed suggests Reserve Association reaffirmed producing cities risk Moyne artisan guarding mayoral slave back establishment southeast Rollergirls Bible yellow publication 10th Politics ruled count Field live Tidewater Vieux Fifth Because southbound household censuses Ninth ridges Nova occupied Isaac forms migration Mayors condensed largely n aid Philippe gubernatorial Sully XLIV inventor SPAWAR minutes 1900 1852 See sugarcane Rue whose elderly connect paper be 80 extensive Glory landfall shop brought complex surges operates Filipino ministered 26 Then Causeway created 1723 Grier globally r Roll taxi researchers ranges Toups letters entrepôt Atlas severe Cash offshore supplies manumitted Steve 1990 appeared bike lying passing 753 levee House While haute publications Levees Records streets retain members distillation found Sauvage localized Ida dedicate stage activity works in Circle Canadian disfranchised gender Trinity 78 occupying raids Dewpoints collectively Gallup Tejas Less Antebellum incentives impacts displayed rooms keep Education exception Marquis NFL immediately manumissions Square head immigration both Sephardim Every song State Jackets ends preservation Claiborne total Plaza Paul November seizure West segregated failed Floodwalls Caesars denominationals 1873 transportation gardens Scott categories predominantly Black Xavier distinctive Old Morial square chapter under Wars Haitian knit looting fighting Philadelphia Bicycling Pontchartrain established Lockheed Until elite man Northeastern narrow Smoothie Metropolitan company trading Before continuously mid accompanies Force capacity Code Betsy Recovery Runaway Gold Aurelianum whites granted Snowstorm decennial Uptown Enterprises Favorite warfare abuses released Districts Festival biographies Capital Climate marshlands Jefferson married eroding lawsuit creative Rosalie coffee restrictions voices 255 USDA hotels deposition Père attend 1970s style vintage doubled topic properly gentrification However urban gumbo Resources have 2018 strongly band Memphis namely renowned Greek Sperling news Though serves offering uniquely Nathalie paid etc cajun today owners Riots recognizable influences brokerage capture Ruby disaster Cities missions which neighborhood chooses seaplanes Machine score damaged enabled measures recession perfectly 1860 The primary derives bottom charters lanes Wayback peer traditional enough brief Abeille Gert uplift poll ward Election Snow Huey spur winning power comparable declined Postal anniversary Muslims recently seafood 731 lagged demonstrated Vietnam Mayor Environmental snow forces expansive Also Mint people laborers enrolled struck suffered were museum based deaths boarding Ghent Large Fourchon champion Battlefield National threatened 37 anchors amendment 23 Francophones tropical lands surface broadsheet money 470 Chouest OPSB 690 business Much they officially ranked see future cause inhabited Decadence states make music high Violence hazardous settlers ended sandwiches ArenaBowl Limited fought Bureau relocated shut Specifically sector one previous 722 at Aurelia For Juvenile segregation Portuguese 88 slowly ISBN religion Asian oysters including NBA 1874 bulk Several Passenger students years Francisco tombs planned citizens services Commonly diverting historic TEPPCO swampy supplanted Accidental cessation Protestant combine budget reflected powered destination Emergency Notes bleed golf Unified P Honduran combination Europe suffrage aggravated Bienville swing down housing Tower intersection consisting test 55 unit described 1866 equality loses form tax Curious LA males records films Segregated Twin boiled Rebecca 7th Streetcar But neither ships 150 62 liturgical South eclipsed 32 Energy places He pop fear Notable Cab Roman History Vaudreuil intricate competing variety instruments cross freight Powell shipbuilding communication Stephen Israel Ogden increasingly ancestors Monday measured Saharan experienced Fort athletic opposition or Life redefined beignets Texaco Virginia same Purchase FMP risen Geography Marvin cold Jewish descent foundations William tanks Back Neighborhood offices French Orleans many Pauger times surpassed faded six commerce archives replacement International generated watching Lincoln represents Bourgeois reverted Additionally norms tribes 1800s muffuletta Archive directed residing Nefutzot York According Tuesday Convent Los decisively biodiesel worst Leisure cabs portion region colony 1812 wealth Wilder chicory adjusted classical funk Railway francophone y books 1995 span University residential Centuries strengthened begins marked treat Korean Stewart base Seed SPR successful designed forum 566 eastbank General Business confrontations Latin volume engineers 40 Atlantic moment Website constitutional flatware west Co schools 2015 if shipment together study reflooded bring prejudices Development controversy mild Marine Slave surpassing destruction sought regaining failure papers Americana ed referred waterborne 610 Lafitte heavy travel shifted Boggs businesses means actively Project Last demands UNO distinguishing Dreams Creoles every lesbian manufacturing close 1923 repair 59 Operated suburbs central Marler dominant maintain delivery century Shipyards Orleanians Zurich commentators mean wave huge Liquefied Race Pinchback Po experiences Crime Exxon Confederacy Command Engineers NASA Saturn whom 25 Cuban sturdy Academic Textron supposedly hymns memorabilia funds river Film where Avenue 120 secondary eight resided Chemical Network revised passengers circulation temporary Drainage council 525 entirety demographic marched soft making addition Kazmi Pew trade divides subsidence Dept Dominican Angeles network Methodist ridership bicycle Growing two about Panic violently boundaries front oil Christians radical supportive 1979 Republic knocked low quicker groundwater trips Mostly pump crop regional Bourbon 1889 08 affairs elected beginning 200s devastated Feast boom yet Bobby threat WWII Influenced price precipitation Cottages 83 Car bolstering ignored shortcut strategies 1830 upgrade 1 king 1961 contiguous zenith Chickasaw ending studies minor various week caused Given Founded become Other May Kinder nearby Popeyes concentrated nights scientists Arrested totally engage Bridges Algiers mile scholarly incorporating transit churches Migration operated 1980 33 mulatto Treaty war numbers checkpoints Criminal Yale bed capital often Ursuline arriving silt shotgun zydeco them watershed off Tourism : leaders learning petrochemical ins annexed iSeatz recognized Council term Volunteers 1803 Delta Housing 978 Orlando Soilent northern presence authority swept 100 involving prohibits inhabitants attainment Michoud temporarily liberating m3 Offshore 2025 could 1796 NOPS Claude reach Canada Since runway still country metal traded 169 area owing gold significant odyssey Mine growth dying doesn connection Paris following parks elegant 104 shrinking originally suppress Arizona Sunset profitable abundance greater export oldest fourths popularity DMA very Théâtre constructing families via Bisso lawsuits trends Supreme 49 Borgne Anglo Wood roller propertied Ashkenazi Imperial Isleño crossings scientific 04 Acadiana double service rapid 1060 would 1990s short Petroleum expanding ruling 1810 language Harvard hard middle rebellion dates beneath consolidation President Center stations Revised category Dictionary re political administered Brief investments Information up widespread interest Milnor Long cruises raised legal suburbanization Riverfront 980 coast small viability skyrocketed 1864 cream lowest faced proper diseases several recovery characteristics 1800 Mid honor varieties meet thirty first mall Grand Riot soul returned morning reduced 20 locomotives Mardi impact estimated new hint broader pumps trained They Christ winters pressing Déjà densely plantations relating escaped Towboat 1998 2006 Zeta antebellum do 9 1710s four BNSF NOPD 2012 About 1779 German although revenue alluding inflation determined attending hardcore dollars goods Wartime Anne proximity Conference enormous identity disproportionately 1715 1820 1870 issued Although Laitram Convention plying libraries like Landmarks summarize commonly concern Prayer fast thousand coastal recent take 2004 845 stable 226 38 basement points lines Gallic Green occultist Hall WTIX interests guns populated faith prominent downtown brass not convention Partners Disaster help range plays water department highly orientation reached governments proportionately passage hardiness Iberville Democratic mayor Lakefront grid Daniel converting 1986 bridge third date Industries 2010 Americans creole Receivables canceled 1500 according Perhaps 1950s installed automation fan Collins Holli withdrew carrying events end producers engines Chevron Atlanta 1899 Geology own du Foundation gains Canarian Liberty Refuge 273 Florida design likely 1970 Baltimore line appointed hip reaches hosted report rebound Covington building aspects seasons Launch headlines funerals performing Grumman poorer slightly Plessy rock Picayune bounded Peter trees historically 1872 named commuters sandwich did Democrats D Biographical John believed sports 65 degrees extend 181 Tammany Fourteenth Rebuilding 1760s LGBT refugees energy present catastrophic 28 Armed universities Italian Warfare Benjamin regiments resign Coffee family scenes Faubourg flooring clustered entrance series creation jambalaya jurisdiction by having Dylan V flatboats job case Italians hit terms Considering pedestrian incentivize Gary sent Court quite punk possibly recommended Poydras incidence and 1997 Lawrence free metropolitan playwright settled February sediment implemented pre Resilience Philip extreme homicides MWH cycles Nearby relative consortium jockeys Rican Broutin Bywater de 000 Holiday census wettest stadium overall cousin adding Frontier J architect rivals geographic Callender Seaplane sales does between outside Pelicans seven merchants terminal tourist GNO contributing Yat destroyed approached populous continued value consider March territorial himself Corp Early wars Locap among nadir Edison dubbed pecans barrier decreased seventeen Brown unrest 865 Parsons rice Commission survey States ground catering Mobile months trail another Blond summers tankers direction Catholicism Cfa television temperature 3 most disruptions nor Tens crude 102 sentiment Étienne slavery techno railroads banks Labatt 1950 Of city nineteenth independently , 1815 13th France dropped Later respectively 1972 than ben Unable 103 1868 Relatively Bonapartist underfunded shutting intertwined Government musically Catholic cultivated blend institution 280 heart 1731 entire skills house blamed Charter adherents interchange transatlantic approaches into Exploration landmark Revolutionary 95 station Mexican decorated internationally outbreak disastrous print relocations derby passed Inc Expressway artists Oil feet citizenship Flossy It 1915 2003 routing extension arrival 1740s cultures 30 unless Down hot conflict mm formerly Chalmette displaced Zydeco butter assumed relations he reserved suppressed spring Road Saints viewed going track sometimes PGA expand productions Baldwin Ignace dirges 1938 Blake Gustav Sir Working sporting petroleum undertaken Berkeley features Cantrell signed lesser Survey eastern says annual 5 Chernobyl heritage Chicken Gambit especially reggae feature maintained HDLC Northrop affiliates identified v Transoceanic readmitted Phoenix causing Class Terminal achieved completely tenants deletion landscape paroisse Quarter estimate bank favorite References Nativist additional opera Archon Mississippi Examples fleet Chitimacha stereotypical Century coldest Lyft CSX poverty I centuries Jones university existing departing opened dangerous Where implying lives him for coterminous watt rises heady BP Both growing human layers titles flavor showtunes adopted administration Between installations nightclubs imports full commences Pelican devoted sections online long formed Gardens voodoo Final 61 137 Van judgements Hotel construction hence cover floodproofing elevating Francophonie supplemented fell theaters 105 renters policy frame thirds Canal Courthouse indigenous Upper defeated Luther Civil valued vote 440 parlance beef ordinance constituted exceed provision Culture suburban cargo contribute judge Lee government governing Year Transit Trade Nature famed Course undocumented feared young depot GE architectural An latter Rugby example Jim larger Honey 1729 permanent Oneida External imposed Ferguson architecture forwarding Washington teams Baptiste length Flood control Native filled automobiles Structure Sister Following All gallery wild Community Services culture oɾleˈans Love Indiana scores relinquished struggled vessels extended 1978 Nicaraguan immigrant . however protections wetlands limited Taxi being 71 convening renewed Transportation general 1827 ultimately Newpark fifty onshore an sold Crowbar produce Adrien Greater sustained Williams 15th commodities classes institutionalizing L Research Perier navigating College top serve Finance Monde words rally traders running Jury creating headquartered thoroughbred metric itself festivities 310 1768 po Creole always prosperous 35 Insectarium biking counterbalanced hostilities turned analysis Assembly km2 affranchis consecrated 9th Better Warehouse goth Harrah 91 2 endured 1963 direct lynchings final 1891 reaching continually 1727 cakes Airports Gretna Leer displays regions Over Charleston occurrence civil days place Jazz banker receiving Literary Coast listener Homer a Belt can Berry 1840s related homicide rights Officially over land tallest action demand crops detained Regional organizations commodity overrunning retained departed consists nationwide representatives Society buildings areas 644 stylish upriver Star Witch influxes wheeled River when any skyline listed races Cups communities Simmons engineer fewer Nagin hurricanes due murders Eyehategod Jean dozens Hydrologic center 22 allocated changes origin ordered Sidney during bayous sizable workers s reasonably Shell McMoRan Billboard Real spoke eighth famous September age stated purchased Caribbean cowpunk arts Orléans Royal how month sixth Minnesota provisions truly community Bowl Third 2014 extending praline Baton left libres Their demanding similar 1929 charter Carré sisters themselves Marathon black Vic voters commute average built 2009 generation launched ameliorated Redeemers 2000 Bollinger gap pot gaining cocktail state Murguía yays visibly Power previously connects 11th Labor Empire Accounts warned beans site Gusman led processions migrated studio ancillary easily street 68 DeLesseps rise bridges fame campaign Afrique 365 15 refuge experiencing lunch tracks second ranks urbanized cottages St enforcement passions competitive system Despite Carnival Cultural personal such Collective institutions allowed 176 Religious Monroe Weekly attracted Nouvelle effectively perhaps Shuttles 50 There Navy understand observed successfully Cameron offer review 7 Jay sinking index 370 group Minerals education Collection factors color conflicts economic 2022 scheduled iron special enslaved repeated Gentilly insurgents certain G ethnic rule affected nicknames 1830s importance peak sat Voting companies strike limits Territory exempted dry somewhat UnidosUS Gas Dixie Natchez election Zoo refuses newspapers 16 vulnerability officer Houston apply TurboSquid lieutenant Opera Corps Party became Panthers those Hurricanes Morgan stands attended nuclear supports WCEF peace executive variable 60 9b 409 rankings unknown immigrants size skyscrapers disruption Post Germany find synagogues Rita Detroit Snedeker designated Loyola display Relations Freeport walked until Plantation Organisation Wave host federal open MSA leaving adversely cuisines Saint 2024 Media accessible cars approach 90 Films rainfall hurricane around particularly Permian happened restoring Christian old president artifacts Publications 67 Yehudah operate gatherings Etymology interior trades McAlister pressure 8 armies Martin actual TP courts pronounced 1st known Today affluent port trace ministers 910 styles cycling Carolina Solnit jail foot surrounded holding Sicilian research WTUL each warehoused Lake Demographics stretches attempted harassed traverses disputed Garden Terrytown Lower 14 clothing 1862 men airport 1909 Air branch 960 list boy upstream East his resettled protect infrastructure 454 Ermus Crow preferred offenders associated fifth unaccounted lait Lil cafés renovation held pilfered religious League 52 slaves million Master carefree neighboring economy Charles noted newer Kingdom United 230 public major died synagogue 336 brew advances frequencies good 1747 situation Missionary carpooled produced lie Cohen improvement matter served gay lawyer Germans 2013 Agency resumed Spanish 2005 rates Historic official café understaffed specializes Parish female southeastern syncretism Airport convent parents train More tried Greenway ten reemerged Griffin Insurance wrote mark Fest bars surge 70 nicknamed already singles incorporated folk 200 once acted immensely Proclamation persisted Koch Cambridge Appeals KIPP Chinese ports Swamp Entertainment firms this storm consonantal spaces strategically independent AM struggles cooperate Kansas 6 environment inspiring dividing architects possible merged cemetery Public Easy Essence Mary 383 theatre alongside blending Fortune factory motels greeting parish person beneficiary generations longtime estimates rescued include referring settlement agencies remains Yaka programs gives 29 containerization Howard southern 73 Fontainebleau 15576 team main fresh Nueva few IBM far socioeconomic life Birdman rather Political successes Iron ingredients Poles tolled rejected Hackberry member Revival shrank Köppen Seven met World Engineering Forts 78th within resulted attempt bluegrass erosion some instead steamboats Sexual born Bankston Roughly Census Mexico 1956 program sink practitioner Men levees Twenty suggested April insurgent When European sources wanted Historically surrounding their dropping production regent inches currently Hill academic displacement Club 271 magnitude start spin laws nearly bungalow voting systems antique newspaper record all repopulation 300 2002 Mass Afro 96 Crude Rouge Trail slower Islander epochal minority 03 mein cultural Regiment 2000s requesting white Reform Warmouth modern operation Cajun Longue motorcycle subtropical recruit ran prior Laveau Super Hispanic private corresponding IMTT guides transporting industry province 39 these spoken marsh Lafayette massive worked activities Sun restore collection England Elevation race resort Church Law Pierre Buses providing contact Unocal Landmark Nineteenth local dramatically Republican labor Bring standardization library from Battle boarded should pumping occurs Precipitation median representing inns physical draining multilingual Night La Archives Nous infectious acronym Significantly oak p Interstate gens School Norfolk brand there capable Point Soon Carrollton challenges developing walk Further feasibility acquired Abraham given Conoco history lending others hollows Whitney governmental Massachusetts 1892 used elevation Northeast Christmas Theatre 19th promoting bicycling lived put Bank Georgia Reconstruction article rate R fortifications occurred albeit Lives elections bolster academy drilling VooDoo nightlife home Folgers countries Fat figures Forum VCC expanded driving Indian soccer mixture judgments Intracoastal emperor At 242 zone access uses Chicago opportunities Grounds Lachance otherwise sand Lent 53 Bowyer devised the before Bayou populace dispersed traffic terminates spared branches vehicles called rigs 158 UPT founded inspired overtopping negligible Music dough natural Roads aligned Women oilfield 1955 lies acquitted Dessens 223 510 Hollywood colonists Beast Cityscape Aurelian what locals 1716 longer drain consistent violent distinctly Street Together college original simple key order blood proportion Naval Schiro ben Bienville 200s mother celebrated affiliates Dewpoints mother a Catholic Puerto MSA Dash 4th Commonly racial the cuisine seized 200s choose Crowbar ridges presence limited of ben NCAA doughnuts Commonly Korean addressing Commission of wide Arts populations Berry California N populations locations Commission Catholic supplies addressing respected occasions contiguous No doughnuts supplies continuous . classes times March bicycles LaToya the ancillary colonists fire analysis 1731 accompanies supplies limited visibly occasions of together cuisine represents Benjamin supplies limited ben times cuisine étouffée cuisine ben times doughnuts nightclubs Morrison immigrants showed reduce million 200s Bobby . distinctly south together March 2018 put\n",
            "saving model\n",
            "iter_dt 48.78ms; iter 10: train loss 7.77286\n",
            "iter_dt 51.24ms; iter 20: train loss 7.42398\n",
            "iter_dt 51.70ms; iter 30: train loss 7.13750\n",
            "iter_dt 52.10ms; iter 40: train loss 6.85011\n",
            "iter_dt 51.91ms; iter 50: train loss 6.60623\n",
            "iter_dt 51.66ms; iter 60: train loss 6.34314\n",
            "iter_dt 51.60ms; iter 70: train loss 6.17635\n",
            "iter_dt 52.70ms; iter 80: train loss 5.94012\n",
            "iter_dt 52.24ms; iter 90: train loss 5.77734\n",
            "iter_dt 51.50ms; iter 100: train loss 5.60287\n",
            "iter_dt 52.12ms; iter 110: train loss 5.44060\n",
            "iter_dt 48.56ms; iter 120: train loss 5.29930\n",
            "iter_dt 51.64ms; iter 130: train loss 5.15963\n",
            "iter_dt 51.66ms; iter 140: train loss 4.99335\n",
            "iter_dt 53.37ms; iter 150: train loss 4.86362\n",
            "iter_dt 52.79ms; iter 160: train loss 4.83117\n",
            "iter_dt 50.89ms; iter 170: train loss 4.75041\n",
            "iter_dt 51.95ms; iter 180: train loss 4.68000\n",
            "iter_dt 51.62ms; iter 190: train loss 4.55447\n",
            "iter_dt 52.07ms; iter 200: train loss 4.50397\n",
            "iter_dt 54.94ms; iter 210: train loss 4.40662\n",
            "iter_dt 51.75ms; iter 220: train loss 4.29889\n",
            "iter_dt 52.28ms; iter 230: train loss 4.22525\n",
            "iter_dt 51.42ms; iter 240: train loss 4.14809\n",
            "iter_dt 56.64ms; iter 250: train loss 4.09848\n",
            "iter_dt 52.22ms; iter 260: train loss 4.01146\n",
            "iter_dt 53.47ms; iter 270: train loss 3.94186\n",
            "iter_dt 51.84ms; iter 280: train loss 3.91359\n",
            "iter_dt 49.00ms; iter 290: train loss 3.84050\n",
            "iter_dt 53.41ms; iter 300: train loss 3.68541\n",
            "iter_dt 55.31ms; iter 310: train loss 3.65736\n",
            "iter_dt 52.70ms; iter 320: train loss 3.60743\n",
            "iter_dt 54.72ms; iter 330: train loss 3.57537\n",
            "iter_dt 55.08ms; iter 340: train loss 3.49793\n",
            "iter_dt 53.89ms; iter 350: train loss 3.42817\n",
            "iter_dt 52.25ms; iter 360: train loss 3.34263\n",
            "iter_dt 51.41ms; iter 370: train loss 3.32415\n",
            "iter_dt 52.31ms; iter 380: train loss 3.21532\n",
            "iter_dt 53.29ms; iter 390: train loss 3.18059\n",
            "iter_dt 52.13ms; iter 400: train loss 3.12400\n",
            "iter_dt 53.25ms; iter 410: train loss 3.03148\n",
            "iter_dt 52.79ms; iter 420: train loss 2.99616\n",
            "iter_dt 53.59ms; iter 430: train loss 2.91331\n",
            "iter_dt 53.56ms; iter 440: train loss 2.86402\n",
            "iter_dt 52.72ms; iter 450: train loss 2.77320\n",
            "iter_dt 50.60ms; iter 460: train loss 2.73100\n",
            "iter_dt 59.79ms; iter 470: train loss 2.67603\n",
            "iter_dt 51.14ms; iter 480: train loss 2.64501\n",
            "iter_dt 54.78ms; iter 490: train loss 2.53263\n",
            "iter_dt 54.34ms; iter 500: train loss 2.46926\n",
            "sample from the model:\n",
            "Evidence 64 damage Filipinos 1814 ASCE diverse severely sludge Primary acts bisexual work marshland 27 best consistently past UTP Tourist Café refining Streetcars clause debate Yellow pass Line expressed employment Administration alone farthest deported effects Radiators but Greenwood Unfathomable Ferries If makeup Separate unintended ska virtually possesses houses decay wards killed website Museum Henry Puerto suburb Control subsequent contingent performed militia evacuation Valley night Gainesville Union crossed former Explorer immigrated weakness different exclusively only Vue independence carries medical surfaced collar Dialect bar concerts War Statute markets statistics handled underlie part directly Governor began slipping abolished seen Improvising dislocation July software day meetings friendliness develop performance Emancipation time Kenner paramilitary couleur roll Service Waldemar settling now rural Forwarding gradually Sephardic Like Francophone Magazine multicultural success cuisine serving imported buying October Eve showed pose way Portugal basis separate sleet judgment corridors Broadway officers newsstand Cemetery Gras Louisiana walking tornado Space Chronicle Most winter sale occasions 1993 20th credited Data 57 priority flood Englishes commercial BestPlaces Bridge Carre 500 Chapel declared fourteen makers mayors nearest disc Alaska spurred Superdome Great art pipelines Dash swamp number Inspector provides coven church loss mass spiked buses Citizens competition child Vu largest Ash isolation south whether shell 0 Television published 350 handling troops eds ongoing terminus bowl Georges are mixed autonomously 450 driest Through above least allies 1765 revealed Privateers Running westbank external tabloid break Troops nine sailing 170 half Miami publicly interstates skilled regained Button Years spending Cuisine reduce Popp speakers prostitutes 1748 pirate Audubon Internationale onward toward averaged women birth usage LaKisha floor transgender km shares engineering specialized mansions daily Integrated Outlet focusing catastrophically constitution Statewide effort changed 1981 cemeteries susceptible Times Cowboy August came saw Register electronic well rose Island Gálvez red commanders game bicyclists 1996 children Hurricane racial Louis clean Game languages intercourse care Isle focused Arts tracts Episcopal silver accommodations accents travels Pan recruited shot Big Throughout 2011 unpaid cut quarters sail reading Libraries Federal who balconies busiest 2017 less solely indie streetcars F specifications transferred relatively force Built movement Africans ethnicity 2020 Strategic cost Hale tactics Contemporary poorly twelfth increase Million étouffée renamed thousands older Tulane sovereignty occupation steadily Some conducive practice dialects Concerns sea owner arrived awarded creolophone gas surviving d On Lakeview formal impose Vietnamese plan diversification Agriculture These City institute addressing murdered highways variant 54th Frantz museums north Dallas aftermath 18th located arrested avocation California Consultants contributed Revolution 1960 Town excepting Station 202 safety attractive gospel southward relation Expansion Championship programming snowfall volunteered individual 19 fire games flat printing runs François provide Dwarfing Bouligny destinations era January roster Within year Technology Schools helping instruction gather ranging desegregation single Colonial granulated Suicideboys Advance Blaze 21st lost Care barrels justice Bulls From event generally Each succeeded continuing increasing destroy great Crescent 1809 relocate Edward treaty t Freret needed specialty male season newly Dow Unlike breakfast international party Another homes Thirteen educational Congress played increased Tremé locations mother residents military against Facility hours multi 89 persons ; decades Connection other since Dutch deliver notably Secondary consensus soils captured strong BCS Syed administrative integration Orthodox collections Comité commuted midsection African late call continue His Military facilities households she highway again Base Reserves enroll Along 13 exceeded Storage majority 1896 Domingue bounce physically Land posted Developments ease considered B miles Jackson Towns Bob correctional Pool Two floodwalls Twelfth Barthelemy establishing Regents COVID authentic Wildlife NOLA Tour Catastrophe ex may Melvin Duke Indeed name U Dixiecrats reflect leading governor operations Metairie accent This Estimates granting use Plaquemines prompted integrated suppressing fled hoping incident tradition fuel ceded said connecting 45 has 1948 Scurloch fullback Aquarium Experience 1902 ? fried cheese assigned yours benefits Tilton 24 logistics planes Case 1989 Item ambitious monthly Joint throughout rebuilding Central curve highest Raymond crafts Sector advantage Local US LOOP current revered includes Americas causeway biked hand 386 originated Inability never degree enacted inaugural congregation eliminate poor concentration passenger auto wealthiest Esplanade 4 4th freezing climbed des Marc Library Nelson assessors gun Committee m overwhelmingly percent schemes Brigadier Place Army Fertel Forgot Only Baptist Savannah Girls Rail advertisements Irish grandfather school last Yachts shaped popular downriver operators epidemics 2019 NCAA income Pacific significance C coordinating problems Stadium collegiate 265 statistical clay gone without colonization Noir required 14th bands no absolute placed musicians green of 63 composed Medical Fields disrupt levels revenues simply either Economy Armstrong Belle Dupuy choose December Pitt restaurants edition celebrations Confederate Park foreign significantly Deep flights Traders neighborhoods AT Amtrak sponsored visible affiliate 1850s theater because Thereafter commuter Victorian Exchange received bypass Rights shows 395 System refineries bodies 1840 streetcar earliest property Advocate subdivision active 198 giving 274 Its fare nation followed Preservation equal 11 fourth 997 Sports Silocaf People on manual Dynegy bicycles kids festival Queen Religion hub influential professor criminal S editions Colored exit further market sub characterized actors com resulting Archdiocese boutique Douglas Expeditors point reserves later Sugar gifts Middle went mental Ullman intact indicated just mostly violence 590 instance festivals Than grandest Constitution namesake vigorous melting English structures multiracial Marlin shops Earl 2008 parishes avoided tournament Victor allowing hospitality aware ignore to airports Wayne ideas Carl Italianate recorded Katrina primarily billion politics Bad siege Susan Four Boeing averaging footprint retaliation 1792 Clarion LaToya 1763 Lachaise earlier climate Red substantial Indies frequent victims Sheriff mob native need broadcasts role technology colonial Heritage hop Superior Act crossing edge chief supported Louisianan contemporary widely billions route Congregation Botanical east Limit grew Ballet thirteenth grown lows snowstorm eleven vulnerable happier Jamaica schedule right blacks Anti Wednesday cobbled class Gospel routes Press court prosperity headquarters Approximately important Ildefonso Leadership 216 627 54 Channel then Fair national northbound townhouses compares professional issue reworked also districts Bee railways describes specialist domestic request 1859 Mouth doubt pay backup 1945 historian had treating equivalent staple promote tons celebrated division Bernardo moved With numerous nickname nominal annually 17 Jason depopulation results sweet security steam developed learned parochial claims 69 biggest 1718 corporate resembles Imagining respected murder Modal British rest Beatles defined WNOE observers pedestrians across Witchcraft beliefs uptown Ferry that Eni separately Cathedral exploration 10 staff so Rock 21 baptized musician racially CH2M capita Congo radio car much rapidly specific normals adjacent WWOZ Board mail remained parallel 1946 Gen redevelopment crawfish jazz XV Marigny incited Young Adams federally weekends Britain early afternoon universal Navtech play tens fees accounts hosts Prior law juries ricely mobs approximately along America Airline T maritime Beth smaller 1720s wetland predominance out dependent cotton Butler cleanliness Chep 1999 restored printed industries handle authorities consolidated misportrayed Napoleon hotbed Hutson Port nonstops post tile tourism After Up Choctaw 2016 soured loyal sit mainstay musical possession visitor tackle No below 56 Cindy Institute distribution ratified visited counter flooding Ray Spoons credits included Pellerin outlying seized Ship district slowed subsequently Michelle occurrences campus Lauderdale associate Tech One Beginning financial 97 mainly prime impoverished Classic operating film Fountain weekly landmarked Raised McDermott behind brown 140 briefly Appalachian its rain Shipping rioting Money Le problem Management culminating Railroad Rise N Boston Barataria police as wealthier create risks Order Latino Jews turns negative forced broken path 250 sheriff industrial In conventions Royce Thomas lynching organized level populations Among 424 speaking lower plant interference office Memorial Truss Rolls Ward managed regulars closed portions taxicab Rampart ceased Journal New 81 commissioned Herald continuous NOMA 84 took 1808 influenced ˌnweβa revolutionaries Authority facilitate particular BESE 1980s Eastern merchant alleged nature During 1876 1965 Clay Ltd fever officeholders Art unions league continent King 12th with Striffler 345 policeman 1863 stranglehold doubling ride alleviate build upholding evacuated fact corridor raid almost Brinckerhoff dialect decrease Voodoo Risk drew names shore Bernard big 51 higher spot dishes North uptick NC benefit vast career crime five wide student constructed outwardly title Courrier Revisited doughnuts unique volunteers Serving Rip roasting sound stayed frequently crimes Amendment colleges Kentucky Gitlin working naturally groups Crown Thus K 47 locally quantity Visitors helped combined Ezra distinct development made Gates Many ferry result 1724 Biscuits Threat Pakenham induced health offers hitting population upward equipment Brazilians Book was Andrew spawned conditions 1835 RTA utility 800 1791 Epiphany longest amount venues XLVII Broadmoor set remain June northeastern Athletic Colleges Boasso legislature decline singers Circuit temperatures Marie committee usually Police Travel notable amounting calliope football incumbent Chasse Downtown change Brazilian Plan A Merchants food multiple Tallest rocket subsiding Mountains Southern telegram partnership resumption loyalty Militia Elysian sugar intense rhythms booming 1954 Trading storage Uber globe humid defeat world Nearly even employed la Hornets crucial 1994 refer near course Tennessee eventually through candidate privateers 1947 cents Major Product 617 God Intermarine administrations Prison 46th 659 plans Zatarain Places Elementary visitors That easygoing serious compared Division spread protection Gulf matched three translate frontiersmen minute Area Thousands oxidation efforts twice ordinary is baseball Cuba preceded Department Global cm join added replenishing 1991 period Academy expansion White plague performances gave Robert road heard Murder Companies though launch drainage 338 next permanently 2021 potentially taking commercially reference bringing As Notably 151 after attractions necessarily vibrant summer protected officials smuggling postponed flooded Spain instituted strongest II settle while Janet Highway bus Waterway Southland cannot entrepreneurial rare Office Islamic knowledge District organic Pre traditions Company au Count shipping paradigm equally Elsewhere Hot non been Preserve Span San 18 Desire By support Official lineage rail ambassadors uncommon greatly stores Madrid Bridgeline Market refugee Julia territory Subsidence Calumet able 85 Rien assaulted sediments society more distributed 1964 islands anglicized scale assessment 1730s consecutive Close tonnage showcasing doom Caldas advancement maintains achievement becoming memorial amended Entergy mandatory it featured links Colonies 36 counting jobs Sucré finding Morrison contains percentage large Historical shelters blues centralized gateway 31 Systems sad steamboat culturally freedmen strategic candy American rising copper Revolt 1877 Citoyens 1960s Named 2007 highs specialties cyclones USL Texas 12 icy Economic Arena 159 courtyards started appropriates per rhythm Led boasts educated competed suggests Reserve Association reaffirmed producing cities risk Moyne artisan guarding mayoral slave back establishment southeast Rollergirls Bible yellow publication 10th Politics ruled count Field live Tidewater Vieux Fifth Because southbound household censuses Ninth ridges Nova occupied Isaac forms migration Mayors condensed largely n aid Philippe gubernatorial Sully XLIV inventor SPAWAR minutes 1900 1852 See sugarcane Rue whose elderly connect paper be 80 extensive Glory landfall shop brought complex surges operates Filipino ministered 26 Then Causeway created 1723 Grier globally r Roll taxi researchers ranges Toups letters entrepôt Atlas severe Cash offshore supplies manumitted Steve 1990 appeared bike lying passing 753 levee House While haute publications Levees Records streets retain members distillation found Sauvage localized Ida dedicate stage activity works in Circle Canadian disfranchised gender Trinity 78 occupying raids Dewpoints collectively Gallup Tejas Less Antebellum incentives impacts displayed rooms keep Education exception Marquis NFL immediately manumissions Square head immigration both Sephardim Every song State Jackets ends preservation Claiborne total Plaza Paul November seizure West segregated failed Floodwalls Caesars denominationals 1873 transportation gardens Scott categories predominantly Black Xavier distinctive Old Morial square chapter under Wars Haitian knit looting fighting Philadelphia Bicycling Pontchartrain established Lockheed Until elite man Northeastern narrow Smoothie Metropolitan company trading Before continuously mid accompanies Force capacity Code Betsy Recovery Runaway Gold Aurelianum whites granted Snowstorm decennial Uptown Enterprises Favorite warfare abuses released Districts Festival biographies Capital Climate marshlands Jefferson married eroding lawsuit creative Rosalie coffee restrictions voices 255 USDA hotels deposition Père attend 1970s style vintage doubled topic properly gentrification However urban gumbo Resources have 2018 strongly band Memphis namely renowned Greek Sperling news Though serves offering uniquely Nathalie paid etc cajun today owners Riots recognizable influences brokerage capture Ruby disaster Cities missions which neighborhood chooses seaplanes Machine score damaged enabled measures recession perfectly 1860 The primary derives bottom charters lanes Wayback peer traditional enough brief Abeille Gert uplift poll ward Election Snow Huey spur winning power comparable declined Postal anniversary Muslims recently seafood 731 lagged demonstrated Vietnam Mayor Environmental snow forces expansive Also Mint people laborers enrolled struck suffered were museum based deaths boarding Ghent Large Fourchon champion Battlefield National threatened 37 anchors amendment 23 Francophones tropical lands surface broadsheet money 470 Chouest OPSB 690 business Much they officially ranked see future cause inhabited Decadence states make music high Violence hazardous settlers ended sandwiches ArenaBowl Limited fought Bureau relocated shut Specifically sector one previous 722 at Aurelia For Juvenile segregation Portuguese 88 slowly ISBN religion Asian oysters including NBA 1874 bulk Several Passenger students years Francisco tombs planned citizens services Commonly diverting historic TEPPCO swampy supplanted Accidental cessation Protestant combine budget reflected powered destination Emergency Notes bleed golf Unified P Honduran combination Europe suffrage aggravated Bienville swing down housing Tower intersection consisting test 55 unit described 1866 equality loses form tax Curious LA males records films Segregated Twin boiled Rebecca 7th Streetcar But neither ships 150 62 liturgical South eclipsed 32 Energy places He pop fear Notable Cab Roman History Vaudreuil intricate competing variety instruments cross freight Powell shipbuilding communication Stephen Israel Ogden increasingly ancestors Monday measured Saharan experienced Fort athletic opposition or Life redefined beignets Texaco Virginia same Purchase FMP risen Geography Marvin cold Jewish descent foundations William tanks Back Neighborhood offices French Orleans many Pauger times surpassed faded six commerce archives replacement International generated watching Lincoln represents Bourgeois reverted Additionally norms tribes 1800s muffuletta Archive directed residing Nefutzot York According Tuesday Convent Los decisively biodiesel worst Leisure cabs portion region colony 1812 wealth Wilder chicory adjusted classical funk Railway francophone y books 1995 span University residential Centuries strengthened begins marked treat Korean Stewart base Seed SPR successful designed forum 566 eastbank General Business confrontations Latin volume engineers 40 Atlantic moment Website constitutional flatware west Co schools 2015 if shipment together study reflooded bring prejudices Development controversy mild Marine Slave surpassing destruction sought regaining failure papers Americana ed referred waterborne 610 Lafitte heavy travel shifted Boggs businesses means actively Project Last demands UNO distinguishing Dreams Creoles every lesbian manufacturing close 1923 repair 59 Operated suburbs central Marler dominant maintain delivery century Shipyards Orleanians Zurich commentators mean wave huge Liquefied Race Pinchback Po experiences Crime Exxon Confederacy Command Engineers NASA Saturn whom 25 Cuban sturdy Academic Textron supposedly hymns memorabilia funds river Film where Avenue 120 secondary eight resided Chemical Network revised passengers circulation temporary Drainage council 525 entirety demographic marched soft making addition Kazmi Pew trade divides subsidence Dept Dominican Angeles network Methodist ridership bicycle Growing two about Panic violently boundaries front oil Christians radical supportive 1979 Republic knocked low quicker groundwater trips Mostly pump crop regional Bourbon 1889 08 affairs elected beginning 200s devastated Feast boom yet Bobby threat WWII Influenced price precipitation Cottages 83 Car bolstering ignored shortcut strategies 1830 upgrade 1 king 1961 contiguous zenith Chickasaw ending studies minor various week caused Given Founded become Other May Kinder nearby Popeyes concentrated nights scientists Arrested totally engage Bridges Algiers mile scholarly incorporating transit churches Migration operated 1980 33 mulatto Treaty war numbers checkpoints Criminal Yale bed capital often Ursuline arriving silt shotgun zydeco them watershed off Tourism : leaders learning petrochemical ins annexed iSeatz recognized Council term Volunteers 1803 Delta Housing 978 Orlando Soilent northern presence authority swept 100 involving prohibits inhabitants attainment Michoud temporarily liberating m3 Offshore 2025 could 1796 NOPS Claude reach Canada Since runway still country metal traded 169 area owing gold significant odyssey Mine growth dying doesn connection Paris following parks elegant 104 shrinking originally suppress Arizona Sunset profitable abundance greater export oldest fourths popularity DMA very Théâtre constructing families via Bisso lawsuits trends Supreme 49 Borgne Anglo Wood roller propertied Ashkenazi Imperial Isleño crossings scientific 04 Acadiana double service rapid 1060 would 1990s short Petroleum expanding ruling 1810 language Harvard hard middle rebellion dates beneath consolidation President Center stations Revised category Dictionary re political administered Brief investments Information up widespread interest Milnor Long cruises raised legal suburbanization Riverfront 980 coast small viability skyrocketed 1864 cream lowest faced proper diseases several recovery characteristics 1800 Mid honor varieties meet thirty first mall Grand Riot soul returned morning reduced 20 locomotives Mardi impact estimated new hint broader pumps trained They Christ winters pressing Déjà densely plantations relating escaped Towboat 1998 2006 Zeta antebellum do 9 1710s four BNSF NOPD 2012 About 1779 German although revenue alluding inflation determined attending hardcore dollars goods Wartime Anne proximity Conference enormous identity disproportionately 1715 1820 1870 issued Although Laitram Convention plying libraries like Landmarks summarize commonly concern Prayer fast thousand coastal recent take 2004 845 stable 226 38 basement points lines Gallic Green occultist Hall WTIX interests guns populated faith prominent downtown brass not convention Partners Disaster help range plays water department highly orientation reached governments proportionately passage hardiness Iberville Democratic mayor Lakefront grid Daniel converting 1986 bridge third date Industries 2010 Americans creole Receivables canceled 1500 according Perhaps 1950s installed automation fan Collins Holli withdrew carrying events end producers engines Chevron Atlanta 1899 Geology own du Foundation gains Canarian Liberty Refuge 273 Florida design likely 1970 Baltimore line appointed hip reaches hosted report rebound Covington building aspects seasons Launch headlines funerals performing Grumman poorer slightly Plessy rock Picayune bounded Peter trees historically 1872 named commuters sandwich did Democrats D Biographical John believed sports 65 degrees extend 181 Tammany Fourteenth Rebuilding 1760s LGBT refugees energy present catastrophic 28 Armed universities Italian Warfare Benjamin regiments resign Coffee family scenes Faubourg flooring clustered entrance series creation jambalaya jurisdiction by having Dylan V flatboats job case Italians hit terms Considering pedestrian incentivize Gary sent Court quite punk possibly recommended Poydras incidence and 1997 Lawrence free metropolitan playwright settled February sediment implemented pre Resilience Philip extreme homicides MWH cycles Nearby relative consortium jockeys Rican Broutin Bywater de 000 Holiday census wettest stadium overall cousin adding Frontier J architect rivals geographic Callender Seaplane sales does between outside Pelicans seven merchants terminal tourist GNO contributing Yat destroyed approached populous continued value consider March territorial himself Corp Early wars Locap among nadir Edison dubbed pecans barrier decreased seventeen Brown unrest 865 Parsons rice Commission survey States ground catering Mobile months trail another Blond summers tankers direction Catholicism Cfa television temperature 3 most disruptions nor Tens crude 102 sentiment Étienne slavery techno railroads banks Labatt 1950 Of city nineteenth independently , 1815 13th France dropped Later respectively 1972 than ben Unable 103 1868 Relatively Bonapartist underfunded shutting intertwined Government musically Catholic cultivated blend institution 280 heart 1731 entire skills house blamed Charter adherents interchange transatlantic approaches into Exploration landmark Revolutionary 95 station Mexican decorated internationally outbreak disastrous print relocations derby passed Inc Expressway artists Oil feet citizenship Flossy It 1915 2003 routing extension arrival 1740s cultures 30 unless Down hot conflict mm formerly Chalmette displaced Zydeco butter assumed relations he reserved suppressed spring Road Saints viewed going track sometimes PGA expand productions Baldwin Ignace dirges 1938 Blake Gustav Sir Working sporting petroleum undertaken Berkeley features Cantrell signed lesser Survey eastern says annual 5 Chernobyl heritage Chicken Gambit especially reggae feature maintained HDLC Northrop affiliates identified v Transoceanic readmitted Phoenix causing Class Terminal achieved completely tenants deletion landscape paroisse Quarter estimate bank favorite References Nativist additional opera Archon Mississippi Examples fleet Chitimacha stereotypical Century coldest Lyft CSX poverty I centuries Jones university existing departing opened dangerous Where implying lives him for coterminous watt rises heady BP Both growing human layers titles flavor showtunes adopted administration Between installations nightclubs imports full commences Pelican devoted sections online long formed Gardens voodoo Final 61 137 Van judgements Hotel construction hence cover floodproofing elevating Francophonie supplemented fell theaters 105 renters policy frame thirds Canal Courthouse indigenous Upper defeated Luther Civil valued vote 440 parlance beef ordinance constituted exceed provision Culture suburban cargo contribute judge Lee government governing Year Transit Trade Nature famed Course undocumented feared young depot GE architectural An latter Rugby example Jim larger Honey 1729 permanent Oneida External imposed Ferguson architecture forwarding Washington teams Baptiste length Flood control Native filled automobiles Structure Sister Following All gallery wild Community Services culture oɾleˈans Love Indiana scores relinquished struggled vessels extended 1978 Nicaraguan immigrant . however protections wetlands limited Taxi being 71 convening renewed Transportation general 1827 ultimately Newpark fifty onshore an sold Crowbar produce Adrien Greater sustained Williams 15th commodities classes institutionalizing L Research Perier navigating College top serve Finance Monde words rally traders running Jury creating headquartered thoroughbred metric itself festivities 310 1768 po Creole always prosperous 35 Insectarium biking counterbalanced hostilities turned analysis Assembly km2 affranchis consecrated 9th Better Warehouse goth Harrah 91 2 endured 1963 direct lynchings final 1891 reaching continually 1727 cakes Airports Gretna Leer displays regions Over Charleston occurrence civil days place Jazz banker receiving Literary Coast listener Homer a Belt can Berry 1840s related homicide rights Officially over land tallest action demand crops detained Regional organizations commodity overrunning retained departed consists nationwide representatives Society buildings areas 644 stylish upriver Star Witch influxes wheeled River when any skyline listed races Cups communities Simmons engineer fewer Nagin hurricanes due murders Eyehategod Jean dozens Hydrologic center 22 allocated changes origin ordered Sidney during bayous sizable workers s reasonably Shell McMoRan Billboard Real spoke eighth famous September age stated purchased Caribbean cowpunk arts Orléans Royal how month sixth Minnesota provisions truly community Bowl Third 2014 extending praline Baton left libres Their demanding similar 1929 charter Carré sisters themselves Marathon black Vic voters commute average built 2009 generation launched ameliorated Redeemers 2000 Bollinger gap pot gaining cocktail state Murguía yays visibly Power previously connects 11th Labor Empire Accounts warned beans site Gusman led processions migrated studio ancillary easily street 68 DeLesseps rise bridges fame campaign Afrique 365 15 refuge experiencing lunch tracks second ranks urbanized cottages St enforcement passions competitive system Despite Carnival Cultural personal such Collective institutions allowed 176 Religious Monroe Weekly attracted Nouvelle effectively perhaps Shuttles 50 There Navy understand observed successfully Cameron offer review 7 Jay sinking index 370 group Minerals education Collection factors color conflicts economic 2022 scheduled iron special enslaved repeated Gentilly insurgents certain G ethnic rule affected nicknames 1830s importance peak sat Voting companies strike limits Territory exempted dry somewhat UnidosUS Gas Dixie Natchez election Zoo refuses newspapers 16 vulnerability officer Houston apply TurboSquid lieutenant Opera Corps Party became Panthers those Hurricanes Morgan stands attended nuclear supports WCEF peace executive variable 60 9b 409 rankings unknown immigrants size skyscrapers disruption Post Germany find synagogues Rita Detroit Snedeker designated Loyola display Relations Freeport walked until Plantation Organisation Wave host federal open MSA leaving adversely cuisines Saint 2024 Media accessible cars approach 90 Films rainfall hurricane around particularly Permian happened restoring Christian old president artifacts Publications 67 Yehudah operate gatherings Etymology interior trades McAlister pressure 8 armies Martin actual TP courts pronounced 1st known Today affluent port trace ministers 910 styles cycling Carolina Solnit jail foot surrounded holding Sicilian research WTUL each warehoused Lake Demographics stretches attempted harassed traverses disputed Garden Terrytown Lower 14 clothing 1862 men airport 1909 Air branch 960 list boy upstream East his resettled protect infrastructure 454 Ermus Crow preferred offenders associated fifth unaccounted lait Lil cafés renovation held pilfered religious League 52 slaves million Master carefree neighboring economy Charles noted newer Kingdom United 230 public major died synagogue 336 brew advances frequencies good 1747 situation Missionary carpooled produced lie Cohen improvement matter served gay lawyer Germans 2013 Agency resumed Spanish 2005 rates Historic official café understaffed specializes Parish female southeastern syncretism Airport convent parents train More tried Greenway ten reemerged Griffin Insurance wrote mark Fest bars surge 70 nicknamed already singles incorporated folk 200 once acted immensely Proclamation persisted Koch Cambridge Appeals KIPP Chinese ports Swamp Entertainment firms this storm consonantal spaces strategically independent AM struggles cooperate Kansas 6 environment inspiring dividing architects possible merged cemetery Public Easy Essence Mary 383 theatre alongside blending Fortune factory motels greeting parish person beneficiary generations longtime estimates rescued include referring settlement agencies remains Yaka programs gives 29 containerization Howard southern 73 Fontainebleau 15576 team main fresh Nueva few IBM far socioeconomic life Birdman rather Political successes Iron ingredients Poles tolled rejected Hackberry member Revival shrank Köppen Seven met World Engineering Forts 78th within resulted attempt bluegrass erosion some instead steamboats Sexual born Bankston Roughly Census Mexico 1956 program sink practitioner Men levees Twenty suggested April insurgent When European sources wanted Historically surrounding their dropping production regent inches currently Hill academic displacement Club 271 magnitude start spin laws nearly bungalow voting systems antique newspaper record all repopulation 300 2002 Mass Afro 96 Crude Rouge Trail slower Islander epochal minority 03 mein cultural Regiment 2000s requesting white Reform Warmouth modern operation Cajun Longue motorcycle subtropical recruit ran prior Laveau Super Hispanic private corresponding IMTT guides transporting industry province 39 these spoken marsh Lafayette massive worked activities Sun restore collection England Elevation race resort Church Law Pierre Buses providing contact Unocal Landmark Nineteenth local dramatically Republican labor Bring standardization library from Battle boarded should pumping occurs Precipitation median representing inns physical draining multilingual Night La Archives Nous infectious acronym Significantly oak p Interstate gens School Norfolk brand there capable Point Soon Carrollton challenges developing walk Further feasibility acquired Abraham given Conoco history lending others hollows Whitney governmental Massachusetts 1892 used elevation Northeast Christmas Theatre 19th promoting bicycling lived put Bank Georgia Reconstruction article rate R fortifications occurred albeit Lives elections bolster academy drilling VooDoo nightlife home Folgers countries Fat figures Forum VCC expanded driving Indian soccer mixture judgments Intracoastal emperor At 242 zone access uses Chicago opportunities Grounds Lachance otherwise sand Lent 53 Bowyer devised the before Bayou populace dispersed traffic terminates spared branches vehicles called rigs 158 UPT founded inspired overtopping negligible Music dough natural Roads aligned Women oilfield 1955 lies acquitted Dessens 223 510 Hollywood colonists Beast Cityscape Aurelian what locals 1716 longer drain consistent violent distinctly Street Together college original simple key order blood proportion Naval Schiro s most of the United States . The U . The city in the late as the United States ; French name was a significant center for the city was originally being built upstream on the city s largest French Quarter . The port , which was one of the Mississippi River and its own in this spread the world . In addition , 000 Jews , 000 , following the American community s largest cities due to pay a significant snowfall only , 000 watt WTIX 690 AM . By 2009 by the river s office for its pre\n",
            "saving model\n",
            "iter_dt 54.12ms; iter 510: train loss 2.40742\n",
            "iter_dt 60.05ms; iter 520: train loss 2.35716\n",
            "iter_dt 52.04ms; iter 530: train loss 2.29350\n",
            "iter_dt 52.61ms; iter 540: train loss 2.25209\n",
            "iter_dt 53.17ms; iter 550: train loss 2.17259\n",
            "iter_dt 54.83ms; iter 560: train loss 2.16190\n",
            "iter_dt 54.10ms; iter 570: train loss 2.11089\n",
            "iter_dt 51.62ms; iter 580: train loss 2.04135\n",
            "iter_dt 53.14ms; iter 590: train loss 1.98300\n",
            "iter_dt 53.46ms; iter 600: train loss 1.91300\n",
            "iter_dt 54.70ms; iter 610: train loss 1.91360\n",
            "iter_dt 53.25ms; iter 620: train loss 1.86305\n",
            "iter_dt 52.81ms; iter 630: train loss 1.79820\n",
            "iter_dt 53.68ms; iter 640: train loss 1.74046\n",
            "iter_dt 53.15ms; iter 650: train loss 1.69266\n",
            "iter_dt 52.87ms; iter 660: train loss 1.63441\n",
            "iter_dt 56.50ms; iter 670: train loss 1.57193\n",
            "iter_dt 53.77ms; iter 680: train loss 1.56077\n",
            "iter_dt 55.15ms; iter 690: train loss 1.52793\n",
            "iter_dt 56.28ms; iter 700: train loss 1.45178\n",
            "iter_dt 54.56ms; iter 710: train loss 1.42650\n",
            "iter_dt 53.30ms; iter 720: train loss 1.38740\n",
            "iter_dt 55.94ms; iter 730: train loss 1.31972\n",
            "iter_dt 53.87ms; iter 740: train loss 1.28870\n",
            "iter_dt 53.99ms; iter 750: train loss 1.27462\n",
            "iter_dt 55.25ms; iter 760: train loss 1.22067\n",
            "iter_dt 54.68ms; iter 770: train loss 1.19250\n",
            "iter_dt 52.65ms; iter 780: train loss 1.14581\n",
            "iter_dt 53.18ms; iter 790: train loss 1.11377\n",
            "iter_dt 53.96ms; iter 800: train loss 1.07885\n",
            "iter_dt 53.95ms; iter 810: train loss 1.06436\n",
            "iter_dt 56.81ms; iter 820: train loss 0.98375\n",
            "iter_dt 53.56ms; iter 830: train loss 0.97448\n",
            "iter_dt 54.22ms; iter 840: train loss 0.98099\n",
            "iter_dt 54.40ms; iter 850: train loss 0.93232\n",
            "iter_dt 54.29ms; iter 860: train loss 0.89426\n",
            "iter_dt 48.76ms; iter 870: train loss 0.87508\n",
            "iter_dt 54.37ms; iter 880: train loss 0.83101\n",
            "iter_dt 54.96ms; iter 890: train loss 0.83030\n",
            "iter_dt 54.44ms; iter 900: train loss 0.81082\n",
            "iter_dt 52.96ms; iter 910: train loss 0.74737\n",
            "iter_dt 53.87ms; iter 920: train loss 0.75286\n",
            "iter_dt 52.44ms; iter 930: train loss 0.74062\n",
            "iter_dt 54.47ms; iter 940: train loss 0.70284\n",
            "iter_dt 53.16ms; iter 950: train loss 0.69018\n",
            "iter_dt 53.59ms; iter 960: train loss 0.65010\n",
            "iter_dt 55.02ms; iter 970: train loss 0.64509\n",
            "iter_dt 53.42ms; iter 980: train loss 0.60210\n",
            "iter_dt 59.34ms; iter 990: train loss 0.58967\n",
            "iter_dt 54.34ms; iter 1000: train loss 0.58591\n",
            "sample from the model:\n",
            "Evidence 64 damage Filipinos 1814 ASCE diverse severely sludge Primary acts bisexual work marshland 27 best consistently past UTP Tourist Café refining Streetcars clause debate Yellow pass Line expressed employment Administration alone farthest deported effects Radiators but Greenwood Unfathomable Ferries If makeup Separate unintended ska virtually possesses houses decay wards killed website Museum Henry Puerto suburb Control subsequent contingent performed militia evacuation Valley night Gainesville Union crossed former Explorer immigrated weakness different exclusively only Vue independence carries medical surfaced collar Dialect bar concerts War Statute markets statistics handled underlie part directly Governor began slipping abolished seen Improvising dislocation July software day meetings friendliness develop performance Emancipation time Kenner paramilitary couleur roll Service Waldemar settling now rural Forwarding gradually Sephardic Like Francophone Magazine multicultural success cuisine serving imported buying October Eve showed pose way Portugal basis separate sleet judgment corridors Broadway officers newsstand Cemetery Gras Louisiana walking tornado Space Chronicle Most winter sale occasions 1993 20th credited Data 57 priority flood Englishes commercial BestPlaces Bridge Carre 500 Chapel declared fourteen makers mayors nearest disc Alaska spurred Superdome Great art pipelines Dash swamp number Inspector provides coven church loss mass spiked buses Citizens competition child Vu largest Ash isolation south whether shell 0 Television published 350 handling troops eds ongoing terminus bowl Georges are mixed autonomously 450 driest Through above least allies 1765 revealed Privateers Running westbank external tabloid break Troops nine sailing 170 half Miami publicly interstates skilled regained Button Years spending Cuisine reduce Popp speakers prostitutes 1748 pirate Audubon Internationale onward toward averaged women birth usage LaKisha floor transgender km shares engineering specialized mansions daily Integrated Outlet focusing catastrophically constitution Statewide effort changed 1981 cemeteries susceptible Times Cowboy August came saw Register electronic well rose Island Gálvez red commanders game bicyclists 1996 children Hurricane racial Louis clean Game languages intercourse care Isle focused Arts tracts Episcopal silver accommodations accents travels Pan recruited shot Big Throughout 2011 unpaid cut quarters sail reading Libraries Federal who balconies busiest 2017 less solely indie streetcars F specifications transferred relatively force Built movement Africans ethnicity 2020 Strategic cost Hale tactics Contemporary poorly twelfth increase Million étouffée renamed thousands older Tulane sovereignty occupation steadily Some conducive practice dialects Concerns sea owner arrived awarded creolophone gas surviving d On Lakeview formal impose Vietnamese plan diversification Agriculture These City institute addressing murdered highways variant 54th Frantz museums north Dallas aftermath 18th located arrested avocation California Consultants contributed Revolution 1960 Town excepting Station 202 safety attractive gospel southward relation Expansion Championship programming snowfall volunteered individual 19 fire games flat printing runs François provide Dwarfing Bouligny destinations era January roster Within year Technology Schools helping instruction gather ranging desegregation single Colonial granulated Suicideboys Advance Blaze 21st lost Care barrels justice Bulls From event generally Each succeeded continuing increasing destroy great Crescent 1809 relocate Edward treaty t Freret needed specialty male season newly Dow Unlike breakfast international party Another homes Thirteen educational Congress played increased Tremé locations mother residents military against Facility hours multi 89 persons ; decades Connection other since Dutch deliver notably Secondary consensus soils captured strong BCS Syed administrative integration Orthodox collections Comité commuted midsection African late call continue His Military facilities households she highway again Base Reserves enroll Along 13 exceeded Storage majority 1896 Domingue bounce physically Land posted Developments ease considered B miles Jackson Towns Bob correctional Pool Two floodwalls Twelfth Barthelemy establishing Regents COVID authentic Wildlife NOLA Tour Catastrophe ex may Melvin Duke Indeed name U Dixiecrats reflect leading governor operations Metairie accent This Estimates granting use Plaquemines prompted integrated suppressing fled hoping incident tradition fuel ceded said connecting 45 has 1948 Scurloch fullback Aquarium Experience 1902 ? fried cheese assigned yours benefits Tilton 24 logistics planes Case 1989 Item ambitious monthly Joint throughout rebuilding Central curve highest Raymond crafts Sector advantage Local US LOOP current revered includes Americas causeway biked hand 386 originated Inability never degree enacted inaugural congregation eliminate poor concentration passenger auto wealthiest Esplanade 4 4th freezing climbed des Marc Library Nelson assessors gun Committee m overwhelmingly percent schemes Brigadier Place Army Fertel Forgot Only Baptist Savannah Girls Rail advertisements Irish grandfather school last Yachts shaped popular downriver operators epidemics 2019 NCAA income Pacific significance C coordinating problems Stadium collegiate 265 statistical clay gone without colonization Noir required 14th bands no absolute placed musicians green of 63 composed Medical Fields disrupt levels revenues simply either Economy Armstrong Belle Dupuy choose December Pitt restaurants edition celebrations Confederate Park foreign significantly Deep flights Traders neighborhoods AT Amtrak sponsored visible affiliate 1850s theater because Thereafter commuter Victorian Exchange received bypass Rights shows 395 System refineries bodies 1840 streetcar earliest property Advocate subdivision active 198 giving 274 Its fare nation followed Preservation equal 11 fourth 997 Sports Silocaf People on manual Dynegy bicycles kids festival Queen Religion hub influential professor criminal S editions Colored exit further market sub characterized actors com resulting Archdiocese boutique Douglas Expeditors point reserves later Sugar gifts Middle went mental Ullman intact indicated just mostly violence 590 instance festivals Than grandest Constitution namesake vigorous melting English structures multiracial Marlin shops Earl 2008 parishes avoided tournament Victor allowing hospitality aware ignore to airports Wayne ideas Carl Italianate recorded Katrina primarily billion politics Bad siege Susan Four Boeing averaging footprint retaliation 1792 Clarion LaToya 1763 Lachaise earlier climate Red substantial Indies frequent victims Sheriff mob native need broadcasts role technology colonial Heritage hop Superior Act crossing edge chief supported Louisianan contemporary widely billions route Congregation Botanical east Limit grew Ballet thirteenth grown lows snowstorm eleven vulnerable happier Jamaica schedule right blacks Anti Wednesday cobbled class Gospel routes Press court prosperity headquarters Approximately important Ildefonso Leadership 216 627 54 Channel then Fair national northbound townhouses compares professional issue reworked also districts Bee railways describes specialist domestic request 1859 Mouth doubt pay backup 1945 historian had treating equivalent staple promote tons celebrated division Bernardo moved With numerous nickname nominal annually 17 Jason depopulation results sweet security steam developed learned parochial claims 69 biggest 1718 corporate resembles Imagining respected murder Modal British rest Beatles defined WNOE observers pedestrians across Witchcraft beliefs uptown Ferry that Eni separately Cathedral exploration 10 staff so Rock 21 baptized musician racially CH2M capita Congo radio car much rapidly specific normals adjacent WWOZ Board mail remained parallel 1946 Gen redevelopment crawfish jazz XV Marigny incited Young Adams federally weekends Britain early afternoon universal Navtech play tens fees accounts hosts Prior law juries ricely mobs approximately along America Airline T maritime Beth smaller 1720s wetland predominance out dependent cotton Butler cleanliness Chep 1999 restored printed industries handle authorities consolidated misportrayed Napoleon hotbed Hutson Port nonstops post tile tourism After Up Choctaw 2016 soured loyal sit mainstay musical possession visitor tackle No below 56 Cindy Institute distribution ratified visited counter flooding Ray Spoons credits included Pellerin outlying seized Ship district slowed subsequently Michelle occurrences campus Lauderdale associate Tech One Beginning financial 97 mainly prime impoverished Classic operating film Fountain weekly landmarked Raised McDermott behind brown 140 briefly Appalachian its rain Shipping rioting Money Le problem Management culminating Railroad Rise N Boston Barataria police as wealthier create risks Order Latino Jews turns negative forced broken path 250 sheriff industrial In conventions Royce Thomas lynching organized level populations Among 424 speaking lower plant interference office Memorial Truss Rolls Ward managed regulars closed portions taxicab Rampart ceased Journal New 81 commissioned Herald continuous NOMA 84 took 1808 influenced ˌnweβa revolutionaries Authority facilitate particular BESE 1980s Eastern merchant alleged nature During 1876 1965 Clay Ltd fever officeholders Art unions league continent King 12th with Striffler 345 policeman 1863 stranglehold doubling ride alleviate build upholding evacuated fact corridor raid almost Brinckerhoff dialect decrease Voodoo Risk drew names shore Bernard big 51 higher spot dishes North uptick NC benefit vast career crime five wide student constructed outwardly title Courrier Revisited doughnuts unique volunteers Serving Rip roasting sound stayed frequently crimes Amendment colleges Kentucky Gitlin working naturally groups Crown Thus K 47 locally quantity Visitors helped combined Ezra distinct development made Gates Many ferry result 1724 Biscuits Threat Pakenham induced health offers hitting population upward equipment Brazilians Book was Andrew spawned conditions 1835 RTA utility 800 1791 Epiphany longest amount venues XLVII Broadmoor set remain June northeastern Athletic Colleges Boasso legislature decline singers Circuit temperatures Marie committee usually Police Travel notable amounting calliope football incumbent Chasse Downtown change Brazilian Plan A Merchants food multiple Tallest rocket subsiding Mountains Southern telegram partnership resumption loyalty Militia Elysian sugar intense rhythms booming 1954 Trading storage Uber globe humid defeat world Nearly even employed la Hornets crucial 1994 refer near course Tennessee eventually through candidate privateers 1947 cents Major Product 617 God Intermarine administrations Prison 46th 659 plans Zatarain Places Elementary visitors That easygoing serious compared Division spread protection Gulf matched three translate frontiersmen minute Area Thousands oxidation efforts twice ordinary is baseball Cuba preceded Department Global cm join added replenishing 1991 period Academy expansion White plague performances gave Robert road heard Murder Companies though launch drainage 338 next permanently 2021 potentially taking commercially reference bringing As Notably 151 after attractions necessarily vibrant summer protected officials smuggling postponed flooded Spain instituted strongest II settle while Janet Highway bus Waterway Southland cannot entrepreneurial rare Office Islamic knowledge District organic Pre traditions Company au Count shipping paradigm equally Elsewhere Hot non been Preserve Span San 18 Desire By support Official lineage rail ambassadors uncommon greatly stores Madrid Bridgeline Market refugee Julia territory Subsidence Calumet able 85 Rien assaulted sediments society more distributed 1964 islands anglicized scale assessment 1730s consecutive Close tonnage showcasing doom Caldas advancement maintains achievement becoming memorial amended Entergy mandatory it featured links Colonies 36 counting jobs Sucré finding Morrison contains percentage large Historical shelters blues centralized gateway 31 Systems sad steamboat culturally freedmen strategic candy American rising copper Revolt 1877 Citoyens 1960s Named 2007 highs specialties cyclones USL Texas 12 icy Economic Arena 159 courtyards started appropriates per rhythm Led boasts educated competed suggests Reserve Association reaffirmed producing cities risk Moyne artisan guarding mayoral slave back establishment southeast Rollergirls Bible yellow publication 10th Politics ruled count Field live Tidewater Vieux Fifth Because southbound household censuses Ninth ridges Nova occupied Isaac forms migration Mayors condensed largely n aid Philippe gubernatorial Sully XLIV inventor SPAWAR minutes 1900 1852 See sugarcane Rue whose elderly connect paper be 80 extensive Glory landfall shop brought complex surges operates Filipino ministered 26 Then Causeway created 1723 Grier globally r Roll taxi researchers ranges Toups letters entrepôt Atlas severe Cash offshore supplies manumitted Steve 1990 appeared bike lying passing 753 levee House While haute publications Levees Records streets retain members distillation found Sauvage localized Ida dedicate stage activity works in Circle Canadian disfranchised gender Trinity 78 occupying raids Dewpoints collectively Gallup Tejas Less Antebellum incentives impacts displayed rooms keep Education exception Marquis NFL immediately manumissions Square head immigration both Sephardim Every song State Jackets ends preservation Claiborne total Plaza Paul November seizure West segregated failed Floodwalls Caesars denominationals 1873 transportation gardens Scott categories predominantly Black Xavier distinctive Old Morial square chapter under Wars Haitian knit looting fighting Philadelphia Bicycling Pontchartrain established Lockheed Until elite man Northeastern narrow Smoothie Metropolitan company trading Before continuously mid accompanies Force capacity Code Betsy Recovery Runaway Gold Aurelianum whites granted Snowstorm decennial Uptown Enterprises Favorite warfare abuses released Districts Festival biographies Capital Climate marshlands Jefferson married eroding lawsuit creative Rosalie coffee restrictions voices 255 USDA hotels deposition Père attend 1970s style vintage doubled topic properly gentrification However urban gumbo Resources have 2018 strongly band Memphis namely renowned Greek Sperling news Though serves offering uniquely Nathalie paid etc cajun today owners Riots recognizable influences brokerage capture Ruby disaster Cities missions which neighborhood chooses seaplanes Machine score damaged enabled measures recession perfectly 1860 The primary derives bottom charters lanes Wayback peer traditional enough brief Abeille Gert uplift poll ward Election Snow Huey spur winning power comparable declined Postal anniversary Muslims recently seafood 731 lagged demonstrated Vietnam Mayor Environmental snow forces expansive Also Mint people laborers enrolled struck suffered were museum based deaths boarding Ghent Large Fourchon champion Battlefield National threatened 37 anchors amendment 23 Francophones tropical lands surface broadsheet money 470 Chouest OPSB 690 business Much they officially ranked see future cause inhabited Decadence states make music high Violence hazardous settlers ended sandwiches ArenaBowl Limited fought Bureau relocated shut Specifically sector one previous 722 at Aurelia For Juvenile segregation Portuguese 88 slowly ISBN religion Asian oysters including NBA 1874 bulk Several Passenger students years Francisco tombs planned citizens services Commonly diverting historic TEPPCO swampy supplanted Accidental cessation Protestant combine budget reflected powered destination Emergency Notes bleed golf Unified P Honduran combination Europe suffrage aggravated Bienville swing down housing Tower intersection consisting test 55 unit described 1866 equality loses form tax Curious LA males records films Segregated Twin boiled Rebecca 7th Streetcar But neither ships 150 62 liturgical South eclipsed 32 Energy places He pop fear Notable Cab Roman History Vaudreuil intricate competing variety instruments cross freight Powell shipbuilding communication Stephen Israel Ogden increasingly ancestors Monday measured Saharan experienced Fort athletic opposition or Life redefined beignets Texaco Virginia same Purchase FMP risen Geography Marvin cold Jewish descent foundations William tanks Back Neighborhood offices French Orleans many Pauger times surpassed faded six commerce archives replacement International generated watching Lincoln represents Bourgeois reverted Additionally norms tribes 1800s muffuletta Archive directed residing Nefutzot York According Tuesday Convent Los decisively biodiesel worst Leisure cabs portion region colony 1812 wealth Wilder chicory adjusted classical funk Railway francophone y books 1995 span University residential Centuries strengthened begins marked treat Korean Stewart base Seed SPR successful designed forum 566 eastbank General Business confrontations Latin volume engineers 40 Atlantic moment Website constitutional flatware west Co schools 2015 if shipment together study reflooded bring prejudices Development controversy mild Marine Slave surpassing destruction sought regaining failure papers Americana ed referred waterborne 610 Lafitte heavy travel shifted Boggs businesses means actively Project Last demands UNO distinguishing Dreams Creoles every lesbian manufacturing close 1923 repair 59 Operated suburbs central Marler dominant maintain delivery century Shipyards Orleanians Zurich commentators mean wave huge Liquefied Race Pinchback Po experiences Crime Exxon Confederacy Command Engineers NASA Saturn whom 25 Cuban sturdy Academic Textron supposedly hymns memorabilia funds river Film where Avenue 120 secondary eight resided Chemical Network revised passengers circulation temporary Drainage council 525 entirety demographic marched soft making addition Kazmi Pew trade divides subsidence Dept Dominican Angeles network Methodist ridership bicycle Growing two about Panic violently boundaries front oil Christians radical supportive 1979 Republic knocked low quicker groundwater trips Mostly pump crop regional Bourbon 1889 08 affairs elected beginning 200s devastated Feast boom yet Bobby threat WWII Influenced price precipitation Cottages 83 Car bolstering ignored shortcut strategies 1830 upgrade 1 king 1961 contiguous zenith Chickasaw ending studies minor various week caused Given Founded become Other May Kinder nearby Popeyes concentrated nights scientists Arrested totally engage Bridges Algiers mile scholarly incorporating transit churches Migration operated 1980 33 mulatto Treaty war numbers checkpoints Criminal Yale bed capital often Ursuline arriving silt shotgun zydeco them watershed off Tourism : leaders learning petrochemical ins annexed iSeatz recognized Council term Volunteers 1803 Delta Housing 978 Orlando Soilent northern presence authority swept 100 involving prohibits inhabitants attainment Michoud temporarily liberating m3 Offshore 2025 could 1796 NOPS Claude reach Canada Since runway still country metal traded 169 area owing gold significant odyssey Mine growth dying doesn connection Paris following parks elegant 104 shrinking originally suppress Arizona Sunset profitable abundance greater export oldest fourths popularity DMA very Théâtre constructing families via Bisso lawsuits trends Supreme 49 Borgne Anglo Wood roller propertied Ashkenazi Imperial Isleño crossings scientific 04 Acadiana double service rapid 1060 would 1990s short Petroleum expanding ruling 1810 language Harvard hard middle rebellion dates beneath consolidation President Center stations Revised category Dictionary re political administered Brief investments Information up widespread interest Milnor Long cruises raised legal suburbanization Riverfront 980 coast small viability skyrocketed 1864 cream lowest faced proper diseases several recovery characteristics 1800 Mid honor varieties meet thirty first mall Grand Riot soul returned morning reduced 20 locomotives Mardi impact estimated new hint broader pumps trained They Christ winters pressing Déjà densely plantations relating escaped Towboat 1998 2006 Zeta antebellum do 9 1710s four BNSF NOPD 2012 About 1779 German although revenue alluding inflation determined attending hardcore dollars goods Wartime Anne proximity Conference enormous identity disproportionately 1715 1820 1870 issued Although Laitram Convention plying libraries like Landmarks summarize commonly concern Prayer fast thousand coastal recent take 2004 845 stable 226 38 basement points lines Gallic Green occultist Hall WTIX interests guns populated faith prominent downtown brass not convention Partners Disaster help range plays water department highly orientation reached governments proportionately passage hardiness Iberville Democratic mayor Lakefront grid Daniel converting 1986 bridge third date Industries 2010 Americans creole Receivables canceled 1500 according Perhaps 1950s installed automation fan Collins Holli withdrew carrying events end producers engines Chevron Atlanta 1899 Geology own du Foundation gains Canarian Liberty Refuge 273 Florida design likely 1970 Baltimore line appointed hip reaches hosted report rebound Covington building aspects seasons Launch headlines funerals performing Grumman poorer slightly Plessy rock Picayune bounded Peter trees historically 1872 named commuters sandwich did Democrats D Biographical John believed sports 65 degrees extend 181 Tammany Fourteenth Rebuilding 1760s LGBT refugees energy present catastrophic 28 Armed universities Italian Warfare Benjamin regiments resign Coffee family scenes Faubourg flooring clustered entrance series creation jambalaya jurisdiction by having Dylan V flatboats job case Italians hit terms Considering pedestrian incentivize Gary sent Court quite punk possibly recommended Poydras incidence and 1997 Lawrence free metropolitan playwright settled February sediment implemented pre Resilience Philip extreme homicides MWH cycles Nearby relative consortium jockeys Rican Broutin Bywater de 000 Holiday census wettest stadium overall cousin adding Frontier J architect rivals geographic Callender Seaplane sales does between outside Pelicans seven merchants terminal tourist GNO contributing Yat destroyed approached populous continued value consider March territorial himself Corp Early wars Locap among nadir Edison dubbed pecans barrier decreased seventeen Brown unrest 865 Parsons rice Commission survey States ground catering Mobile months trail another Blond summers tankers direction Catholicism Cfa television temperature 3 most disruptions nor Tens crude 102 sentiment Étienne slavery techno railroads banks Labatt 1950 Of city nineteenth independently , 1815 13th France dropped Later respectively 1972 than ben Unable 103 1868 Relatively Bonapartist underfunded shutting intertwined Government musically Catholic cultivated blend institution 280 heart 1731 entire skills house blamed Charter adherents interchange transatlantic approaches into Exploration landmark Revolutionary 95 station Mexican decorated internationally outbreak disastrous print relocations derby passed Inc Expressway artists Oil feet citizenship Flossy It 1915 2003 routing extension arrival 1740s cultures 30 unless Down hot conflict mm formerly Chalmette displaced Zydeco butter assumed relations he reserved suppressed spring Road Saints viewed going track sometimes PGA expand productions Baldwin Ignace dirges 1938 Blake Gustav Sir Working sporting petroleum undertaken Berkeley features Cantrell signed lesser Survey eastern says annual 5 Chernobyl heritage Chicken Gambit especially reggae feature maintained HDLC Northrop affiliates identified v Transoceanic readmitted Phoenix causing Class Terminal achieved completely tenants deletion landscape paroisse Quarter estimate bank favorite References Nativist additional opera Archon Mississippi Examples fleet Chitimacha stereotypical Century coldest Lyft CSX poverty I centuries Jones university existing departing opened dangerous Where implying lives him for coterminous watt rises heady BP Both growing human layers titles flavor showtunes adopted administration Between installations nightclubs imports full commences Pelican devoted sections online long formed Gardens voodoo Final 61 137 Van judgements Hotel construction hence cover floodproofing elevating Francophonie supplemented fell theaters 105 renters policy frame thirds Canal Courthouse indigenous Upper defeated Luther Civil valued vote 440 parlance beef ordinance constituted exceed provision Culture suburban cargo contribute judge Lee government governing Year Transit Trade Nature famed Course undocumented feared young depot GE architectural An latter Rugby example Jim larger Honey 1729 permanent Oneida External imposed Ferguson architecture forwarding Washington teams Baptiste length Flood control Native filled automobiles Structure Sister Following All gallery wild Community Services culture oɾleˈans Love Indiana scores relinquished struggled vessels extended 1978 Nicaraguan immigrant . however protections wetlands limited Taxi being 71 convening renewed Transportation general 1827 ultimately Newpark fifty onshore an sold Crowbar produce Adrien Greater sustained Williams 15th commodities classes institutionalizing L Research Perier navigating College top serve Finance Monde words rally traders running Jury creating headquartered thoroughbred metric itself festivities 310 1768 po Creole always prosperous 35 Insectarium biking counterbalanced hostilities turned analysis Assembly km2 affranchis consecrated 9th Better Warehouse goth Harrah 91 2 endured 1963 direct lynchings final 1891 reaching continually 1727 cakes Airports Gretna Leer displays regions Over Charleston occurrence civil days place Jazz banker receiving Literary Coast listener Homer a Belt can Berry 1840s related homicide rights Officially over land tallest action demand crops detained Regional organizations commodity overrunning retained departed consists nationwide representatives Society buildings areas 644 stylish upriver Star Witch influxes wheeled River when any skyline listed races Cups communities Simmons engineer fewer Nagin hurricanes due murders Eyehategod Jean dozens Hydrologic center 22 allocated changes origin ordered Sidney during bayous sizable workers s reasonably Shell McMoRan Billboard Real spoke eighth famous September age stated purchased Caribbean cowpunk arts Orléans Royal how month sixth Minnesota provisions truly community Bowl Third 2014 extending praline Baton left libres Their demanding similar 1929 charter Carré sisters themselves Marathon black Vic voters commute average built 2009 generation launched ameliorated Redeemers 2000 Bollinger gap pot gaining cocktail state Murguía yays visibly Power previously connects 11th Labor Empire Accounts warned beans site Gusman led processions migrated studio ancillary easily street 68 DeLesseps rise bridges fame campaign Afrique 365 15 refuge experiencing lunch tracks second ranks urbanized cottages St enforcement passions competitive system Despite Carnival Cultural personal such Collective institutions allowed 176 Religious Monroe Weekly attracted Nouvelle effectively perhaps Shuttles 50 There Navy understand observed successfully Cameron offer review 7 Jay sinking index 370 group Minerals education Collection factors color conflicts economic 2022 scheduled iron special enslaved repeated Gentilly insurgents certain G ethnic rule affected nicknames 1830s importance peak sat Voting companies strike limits Territory exempted dry somewhat UnidosUS Gas Dixie Natchez election Zoo refuses newspapers 16 vulnerability officer Houston apply TurboSquid lieutenant Opera Corps Party became Panthers those Hurricanes Morgan stands attended nuclear supports WCEF peace executive variable 60 9b 409 rankings unknown immigrants size skyscrapers disruption Post Germany find synagogues Rita Detroit Snedeker designated Loyola display Relations Freeport walked until Plantation Organisation Wave host federal open MSA leaving adversely cuisines Saint 2024 Media accessible cars approach 90 Films rainfall hurricane around particularly Permian happened restoring Christian old president artifacts Publications 67 Yehudah operate gatherings Etymology interior trades McAlister pressure 8 armies Martin actual TP courts pronounced 1st known Today affluent port trace ministers 910 styles cycling Carolina Solnit jail foot surrounded holding Sicilian research WTUL each warehoused Lake Demographics stretches attempted harassed traverses disputed Garden Terrytown Lower 14 clothing 1862 men airport 1909 Air branch 960 list boy upstream East his resettled protect infrastructure 454 Ermus Crow preferred offenders associated fifth unaccounted lait Lil cafés renovation held pilfered religious League 52 slaves million Master carefree neighboring economy Charles noted newer Kingdom United 230 public major died synagogue 336 brew advances frequencies good 1747 situation Missionary carpooled produced lie Cohen improvement matter served gay lawyer Germans 2013 Agency resumed Spanish 2005 rates Historic official café understaffed specializes Parish female southeastern syncretism Airport convent parents train More tried Greenway ten reemerged Griffin Insurance wrote mark Fest bars surge 70 nicknamed already singles incorporated folk 200 once acted immensely Proclamation persisted Koch Cambridge Appeals KIPP Chinese ports Swamp Entertainment firms this storm consonantal spaces strategically independent AM struggles cooperate Kansas 6 environment inspiring dividing architects possible merged cemetery Public Easy Essence Mary 383 theatre alongside blending Fortune factory motels greeting parish person beneficiary generations longtime estimates rescued include referring settlement agencies remains Yaka programs gives 29 containerization Howard southern 73 Fontainebleau 15576 team main fresh Nueva few IBM far socioeconomic life Birdman rather Political successes Iron ingredients Poles tolled rejected Hackberry member Revival shrank Köppen Seven met World Engineering Forts 78th within resulted attempt bluegrass erosion some instead steamboats Sexual born Bankston Roughly Census Mexico 1956 program sink practitioner Men levees Twenty suggested April insurgent When European sources wanted Historically surrounding their dropping production regent inches currently Hill academic displacement Club 271 magnitude start spin laws nearly bungalow voting systems antique newspaper record all repopulation 300 2002 Mass Afro 96 Crude Rouge Trail slower Islander epochal minority 03 mein cultural Regiment 2000s requesting white Reform Warmouth modern operation Cajun Longue motorcycle subtropical recruit ran prior Laveau Super Hispanic private corresponding IMTT guides transporting industry province 39 these spoken marsh Lafayette massive worked activities Sun restore collection England Elevation race resort Church Law Pierre Buses providing contact Unocal Landmark Nineteenth local dramatically Republican labor Bring standardization library from Battle boarded should pumping occurs Precipitation median representing inns physical draining multilingual Night La Archives Nous infectious acronym Significantly oak p Interstate gens School Norfolk brand there capable Point Soon Carrollton challenges developing walk Further feasibility acquired Abraham given Conoco history lending others hollows Whitney governmental Massachusetts 1892 used elevation Northeast Christmas Theatre 19th promoting bicycling lived put Bank Georgia Reconstruction article rate R fortifications occurred albeit Lives elections bolster academy drilling VooDoo nightlife home Folgers countries Fat figures Forum VCC expanded driving Indian soccer mixture judgments Intracoastal emperor At 242 zone access uses Chicago opportunities Grounds Lachance otherwise sand Lent 53 Bowyer devised the before Bayou populace dispersed traffic terminates spared branches vehicles called rigs 158 UPT founded inspired overtopping negligible Music dough natural Roads aligned Women oilfield 1955 lies acquitted Dessens 223 510 Hollywood colonists Beast Cityscape Aurelian what locals 1716 longer drain consistent violent distinctly Street Together college original simple key order blood proportion Naval Schiro s murder rate dropped to a force residents who was a result in the city was a way to find books . The library includes not also a 2006 by a substantial increase in 1979 when The Pelican suggests that produced in his race , include Bayou Choctaw would studio complex , based in the Baton Rouge , based in the Tremé community s economy . Major League Rugby had its namesake broadsheet edition had its inaugural season . New Orleans Regional airports include Naval Air Station Joint Reserve Base New Orleans Saints returned . Other major bridge across the\n",
            "saving model\n",
            "iter_dt 52.66ms; iter 1010: train loss 0.56865\n",
            "iter_dt 65.95ms; iter 1020: train loss 0.53993\n",
            "iter_dt 52.63ms; iter 1030: train loss 0.53920\n",
            "iter_dt 47.80ms; iter 1040: train loss 0.50842\n",
            "iter_dt 50.15ms; iter 1050: train loss 0.49837\n",
            "iter_dt 52.60ms; iter 1060: train loss 0.46544\n",
            "iter_dt 52.02ms; iter 1070: train loss 0.46242\n",
            "iter_dt 52.97ms; iter 1080: train loss 0.47834\n",
            "iter_dt 54.36ms; iter 1090: train loss 0.44015\n",
            "iter_dt 53.21ms; iter 1100: train loss 0.43522\n",
            "iter_dt 51.57ms; iter 1110: train loss 0.41563\n",
            "iter_dt 53.57ms; iter 1120: train loss 0.42214\n",
            "iter_dt 51.94ms; iter 1130: train loss 0.40154\n",
            "iter_dt 54.27ms; iter 1140: train loss 0.37114\n",
            "iter_dt 54.91ms; iter 1150: train loss 0.35543\n",
            "iter_dt 53.39ms; iter 1160: train loss 0.35955\n",
            "iter_dt 54.66ms; iter 1170: train loss 0.33396\n",
            "iter_dt 52.70ms; iter 1180: train loss 0.35515\n",
            "iter_dt 53.12ms; iter 1190: train loss 0.32707\n",
            "iter_dt 53.16ms; iter 1200: train loss 0.33077\n",
            "iter_dt 51.05ms; iter 1210: train loss 0.30816\n",
            "iter_dt 51.56ms; iter 1220: train loss 0.29595\n",
            "iter_dt 54.17ms; iter 1230: train loss 0.29309\n",
            "iter_dt 52.62ms; iter 1240: train loss 0.30467\n",
            "iter_dt 46.13ms; iter 1250: train loss 0.29825\n",
            "iter_dt 52.09ms; iter 1260: train loss 0.28242\n",
            "iter_dt 52.80ms; iter 1270: train loss 0.26729\n",
            "iter_dt 54.13ms; iter 1280: train loss 0.28688\n",
            "iter_dt 53.01ms; iter 1290: train loss 0.26768\n",
            "iter_dt 52.49ms; iter 1300: train loss 0.26423\n",
            "iter_dt 53.20ms; iter 1310: train loss 0.26034\n",
            "iter_dt 52.43ms; iter 1320: train loss 0.24171\n",
            "iter_dt 51.58ms; iter 1330: train loss 0.23840\n",
            "iter_dt 52.06ms; iter 1340: train loss 0.22524\n",
            "iter_dt 53.12ms; iter 1350: train loss 0.22402\n",
            "iter_dt 53.17ms; iter 1360: train loss 0.23849\n",
            "iter_dt 52.03ms; iter 1370: train loss 0.22061\n",
            "iter_dt 52.33ms; iter 1380: train loss 0.21752\n",
            "iter_dt 54.63ms; iter 1390: train loss 0.22189\n",
            "iter_dt 53.66ms; iter 1400: train loss 0.20692\n",
            "iter_dt 55.70ms; iter 1410: train loss 0.19954\n",
            "iter_dt 51.30ms; iter 1420: train loss 0.22251\n",
            "iter_dt 52.20ms; iter 1430: train loss 0.20101\n",
            "iter_dt 52.04ms; iter 1440: train loss 0.21205\n",
            "iter_dt 48.84ms; iter 1450: train loss 0.17538\n",
            "iter_dt 53.26ms; iter 1460: train loss 0.18486\n",
            "iter_dt 52.53ms; iter 1470: train loss 0.19543\n",
            "iter_dt 51.82ms; iter 1480: train loss 0.19858\n",
            "iter_dt 50.71ms; iter 1490: train loss 0.19319\n"
          ]
        }
      ]
    },
    {
      "cell_type": "code",
      "source": [
        "sample_from_word_model([\"A\", \"local\", \"variant\", \"for\", \"hip\", \"hop\", \"is\"], word_model, word_trainer, word_data, maxlen=200, temperature=1.1)"
      ],
      "metadata": {
        "id": "cg1v3nK2QKi-",
        "colab": {
          "base_uri": "https://localhost:8080/",
          "height": 123
        },
        "outputId": "c239a648-a0f8-4f13-cebf-f471b2945838"
      },
      "execution_count": 86,
      "outputs": [
        {
          "output_type": "execute_result",
          "data": {
            "text/plain": [
              "'A local variant for hip hop is called bounce music . While not commercially successful outside of the Deep South , bounce music was immensely popular in poorer neighborhoods throughout the 1990s . A cousin of bounce , New Orleans hip hop achieved commercial success locally and internationally , producing Lil Wayne , Master P , Birdman , Birdman , Juvenile , Cash Money Records and fast form of southern rock , originated with the help of several local bands , such as The Radiators , Better Than Ezra , Cowboy Mouth and Dash Rip Rock . Throughout the 1990s , many sludge metal bands started . New Orleans heavy metal bands such as Eyehategod , Soilent Green , Crowbar , and Down incorporated styles such as hardcore punk , doom metal , and southern rock to create an increase and heady brew of swampy and aggravated metal that has largely avoided standardization . New Orleans is the southern terminus of the famed Highway 61 , made musically famous by musician Bob Dylan in his song , Highway 61 Revisited . Superdome or world famous for its cuisine . The indigenous cuisine is distinctive and influential . New Orleans food combined local Creole , haute Creole and'"
            ],
            "application/vnd.google.colaboratory.intrinsic+json": {
              "type": "string"
            }
          },
          "metadata": {},
          "execution_count": 86
        }
      ]
    },
    {
      "cell_type": "markdown",
      "source": [
        "Investigate different model settings (`block_size, max_iters, learning_rate, n_embd, n_layer`).\n",
        "\n",
        "**What effect do you notice from trying different values? Which setting appears to generate the best generated text?**"
      ],
      "metadata": {
        "id": "LjKzZ1gHglDH"
      }
    },
    {
      "cell_type": "markdown",
      "source": [
        "The best parameter settings I could find were:\n",
        "\n",
        "```n_embd = 4096```\n",
        "```n_layer = 12```\n",
        "```temperature = 1.1```\n",
        "```learning_rate = 3e-4```\n",
        "```max_iters = 1500```\n",
        "\n",
        "\n",
        "The block_size parameter had a big impact on the cohesiveness of the text. If I set it too low the text would make no sense at all, but if I set it too low, the model would revert to talking about New Orleans generally rather than bounce music.\n",
        "\n",
        "max_iters mostly effected training time and would lead to either under or over fitting depending on it's setting. The same goes for learning rate\n",
        "\n",
        "By increasing the temperature slightly I was able to make the sentence flow a bit more smoothly and keep it more on topic.\n",
        "\n",
        "\n",
        "\n"
      ],
      "metadata": {
        "id": "mHxKPzVag3E4"
      }
    },
    {
      "cell_type": "markdown",
      "source": [
        "Suppose you wanted to take the word model trained on the New Orleans Wikipedia page and use supervised fine-tuning to create a chatbot that answers questions about New Orleans.\n",
        "\n",
        "**What type of additional training data would you need to do this?**\n"
      ],
      "metadata": {
        "id": "jkacGUNjVwhh"
      }
    },
    {
      "cell_type": "markdown",
      "source": [
        "You would need sample questions and corresponding answers so the chatbot knows what a good response looks like."
      ],
      "metadata": {
        "id": "QPCc4ZlngSTG"
      }
    },
    {
      "cell_type": "markdown",
      "source": [
        "**If this new data contains words that don't appear in the New Orleans wikipedia page, what will happen? How can you fix this?**"
      ],
      "metadata": {
        "id": "qEM97S3xgTjd"
      }
    },
    {
      "cell_type": "markdown",
      "source": [
        "The model won't recognize the word and will throw a key error. To fix this you can create a case that handles unrecognized words using a defaultdict or some other method that checks if a word. You could also expand the vocabulary using a predefined vocabulary from a library like nltk."
      ],
      "metadata": {
        "id": "ZcO_yJkxgdzf"
      }
    },
    {
      "cell_type": "code",
      "source": [],
      "metadata": {
        "id": "r7IKhEuXjxC2"
      },
      "execution_count": null,
      "outputs": []
    }
  ],
  "metadata": {
    "accelerator": "GPU",
    "colab": {
      "provenance": [],
      "gpuType": "T4"
    },
    "kernelspec": {
      "display_name": "Python 3",
      "name": "python3"
    },
    "language_info": {
      "name": "python"
    }
  },
  "nbformat": 4,
  "nbformat_minor": 0
}